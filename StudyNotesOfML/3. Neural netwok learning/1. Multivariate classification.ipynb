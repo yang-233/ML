{
 "cells": [
  {
   "cell_type": "markdown",
   "metadata": {},
   "source": [
    "# *多类型分类*"
   ]
  },
  {
   "cell_type": "code",
   "execution_count": 1,
   "metadata": {
    "ExecuteTime": {
     "end_time": "2019-07-14T07:17:59.117643Z",
     "start_time": "2019-07-14T07:17:51.525560Z"
    }
   },
   "outputs": [],
   "source": [
    "import numpy as np\n",
    "import pandas as pd\n",
    "import matplotlib.pyplot as plt\n",
    "from scipy.io import loadmat\n"
   ]
  },
  {
   "cell_type": "code",
   "execution_count": 2,
   "metadata": {
    "ExecuteTime": {
     "end_time": "2019-07-14T07:17:59.411937Z",
     "start_time": "2019-07-14T07:17:59.122351Z"
    }
   },
   "outputs": [
    {
     "data": {
      "text/plain": [
       "{'__header__': b'MATLAB 5.0 MAT-file, Platform: GLNXA64, Created on: Sun Oct 16 13:09:09 2011',\n",
       " '__version__': '1.0',\n",
       " '__globals__': [],\n",
       " 'X': array([[0., 0., 0., ..., 0., 0., 0.],\n",
       "        [0., 0., 0., ..., 0., 0., 0.],\n",
       "        [0., 0., 0., ..., 0., 0., 0.],\n",
       "        ...,\n",
       "        [0., 0., 0., ..., 0., 0., 0.],\n",
       "        [0., 0., 0., ..., 0., 0., 0.],\n",
       "        [0., 0., 0., ..., 0., 0., 0.]]),\n",
       " 'y': array([[10],\n",
       "        [10],\n",
       "        [10],\n",
       "        ...,\n",
       "        [ 9],\n",
       "        [ 9],\n",
       "        [ 9]], dtype=uint8)}"
      ]
     },
     "execution_count": 2,
     "metadata": {},
     "output_type": "execute_result"
    }
   ],
   "source": [
    "data = loadmat('ex3data1.mat')\n",
    "data"
   ]
  },
  {
   "cell_type": "code",
   "execution_count": 3,
   "metadata": {
    "ExecuteTime": {
     "end_time": "2019-07-14T07:18:05.069655Z",
     "start_time": "2019-07-14T07:18:05.048966Z"
    }
   },
   "outputs": [
    {
     "data": {
      "text/plain": [
       "((5000, 400), (5000, 1))"
      ]
     },
     "execution_count": 3,
     "metadata": {},
     "output_type": "execute_result"
    }
   ],
   "source": [
    "data['X'].shape, data['y'].shape"
   ]
  },
  {
   "cell_type": "code",
   "execution_count": 69,
   "metadata": {
    "ExecuteTime": {
     "end_time": "2019-07-15T13:12:07.821256Z",
     "start_time": "2019-07-15T13:12:07.786352Z"
    }
   },
   "outputs": [
    {
     "data": {
      "text/plain": [
       "(array([[0., 0., 0., ..., 0., 0., 0.],\n",
       "        [0., 0., 0., ..., 0., 0., 0.],\n",
       "        [0., 0., 0., ..., 0., 0., 0.],\n",
       "        ...,\n",
       "        [0., 0., 0., ..., 0., 0., 0.],\n",
       "        [0., 0., 0., ..., 0., 0., 0.],\n",
       "        [0., 0., 0., ..., 0., 0., 0.]]), array([[10],\n",
       "        [10],\n",
       "        [10],\n",
       "        ...,\n",
       "        [ 9],\n",
       "        [ 9],\n",
       "        [ 9]], dtype=uint8))"
      ]
     },
     "execution_count": 69,
     "metadata": {},
     "output_type": "execute_result"
    }
   ],
   "source": [
    "X, y = data['X'], data['y']\n",
    "X, y"
   ]
  },
  {
   "cell_type": "code",
   "execution_count": 19,
   "metadata": {
    "ExecuteTime": {
     "end_time": "2019-07-14T08:08:14.311669Z",
     "start_time": "2019-07-14T08:08:14.282842Z"
    }
   },
   "outputs": [
    {
     "data": {
      "text/plain": [
       "((5000, 400), (5000, 1))"
      ]
     },
     "execution_count": 19,
     "metadata": {},
     "output_type": "execute_result"
    }
   ],
   "source": [
    "X.shape, y.shape\n"
   ]
  },
  {
   "cell_type": "code",
   "execution_count": 30,
   "metadata": {
    "ExecuteTime": {
     "end_time": "2019-07-15T12:29:57.115818Z",
     "start_time": "2019-07-15T12:29:57.090428Z"
    }
   },
   "outputs": [],
   "source": [
    "def plot_an_image(X):\n",
    "    pick_one = np.random.randint(len(X))\n",
    "    image = X[pick_one, :]\n",
    "    fig, ax = plt.subplots(figsize=(1, 1))\n",
    "    ax.imshow(image.reshape(20, 20).T, cmap = 'gray_r')\n",
    "    plt.xticks([])\n",
    "    plt.yticks([])"
   ]
  },
  {
   "cell_type": "code",
   "execution_count": 31,
   "metadata": {
    "ExecuteTime": {
     "end_time": "2019-07-15T12:29:59.032007Z",
     "start_time": "2019-07-15T12:29:58.829839Z"
    }
   },
   "outputs": [
    {
     "data": {
      "image/png": "[encoded data removed]",
      "text/plain": [
       "<Figure size 72x72 with 1 Axes>"
      ]
     },
     "metadata": {},
     "output_type": "display_data"
    }
   ],
   "source": [
    "plot_an_image(X)"
   ]
  },
  {
   "cell_type": "code",
   "execution_count": 58,
   "metadata": {
    "ExecuteTime": {
     "end_time": "2019-07-15T12:45:52.784982Z",
     "start_time": "2019-07-15T12:45:52.748761Z"
    }
   },
   "outputs": [],
   "source": [
    "def plot_some_image(X, num=10):\n",
    "    if num ** 2 > len(X):\n",
    "        return None\n",
    "    some_index = np.random.choice(len(X), num ** 2)\n",
    "#     print(type(some_index))\n",
    "    images = X[some_index, :]\n",
    "    print(images.shape)\n",
    "    fig, ax = plt.subplots(num, num, figsize=(num, num)\n",
    "    , sharex=True, sharey=True\n",
    "                          ) \n",
    "    for r in range(num):\n",
    "        for c in range(num):\n",
    "            ax[r, c].imshow(images[num * r + c].reshape(20, 20).T, cmap='gray_r')\n",
    "    plt.xticks([])\n",
    "    plt.yticks([])"
   ]
  },
  {
   "cell_type": "code",
   "execution_count": 59,
   "metadata": {
    "ExecuteTime": {
     "end_time": "2019-07-15T12:45:58.503127Z",
     "start_time": "2019-07-15T12:45:54.761311Z"
    }
   },
   "outputs": [
    {
     "name": "stdout",
     "output_type": "stream",
     "text": [
      "(100, 400)\n"
     ]
    },
    {
     "data": {
      "image/png": "[encoded data removed]",
      "text/plain": [
       "<Figure size 720x720 with 100 Axes>"
      ]
     },
     "metadata": {},
     "output_type": "display_data"
    }
   ],
   "source": [
    "plot_some_image(X)"
   ]
  },
  {
   "cell_type": "code",
   "execution_count": 60,
   "metadata": {
    "ExecuteTime": {
     "end_time": "2019-07-15T12:59:07.602315Z",
     "start_time": "2019-07-15T12:59:07.583389Z"
    }
   },
   "outputs": [],
   "source": [
    "def sigmod(z):\n",
    "    return 1 / (1 + np.exp(-z))"
   ]
  },
  {
   "cell_type": "code",
   "execution_count": 61,
   "metadata": {
    "ExecuteTime": {
     "end_time": "2019-07-15T13:06:12.897185Z",
     "start_time": "2019-07-15T13:06:12.878052Z"
    }
   },
   "outputs": [],
   "source": [
    "def cost_func(theta, X, y, rate):\n",
    "    m = len(X)\n",
    "    temp = sigmod(X @ theta)\n",
    "    first = y * np.log(temp)\n",
    "    second = (1 - y) * np.log(1 - temp)\n",
    "    reg = theta[1:] @ theta[1:] * (rate / (2 * m))\n",
    "    return -np.sum(first + second) / m + reg"
   ]
  },
  {
   "cell_type": "code",
   "execution_count": 62,
   "metadata": {
    "ExecuteTime": {
     "end_time": "2019-07-15T13:09:39.228066Z",
     "start_time": "2019-07-15T13:09:39.201949Z"
    }
   },
   "outputs": [],
   "source": [
    "def gradient_reg(theta, X, y, rate):\n",
    "    m = len(X)\n",
    "    reg = theta[1:] * (rate / m)\n",
    "    reg = np.insert(reg, 0, values=0, axis=0)\n",
    "    first = (X.T @ (sigmod(X @ theta) - y)) / m\n",
    "    return first + reg\n"
   ]
  },
  {
   "cell_type": "code",
   "execution_count": 85,
   "metadata": {
    "ExecuteTime": {
     "end_time": "2019-07-15T13:24:29.464277Z",
     "start_time": "2019-07-15T13:24:29.411850Z"
    }
   },
   "outputs": [
    {
     "data": {
      "text/plain": [
       "(5000, 401)"
      ]
     },
     "execution_count": 85,
     "metadata": {},
     "output_type": "execute_result"
    }
   ],
   "source": [
    "X = np.insert(X, 0, values=1, axis=1)\n",
    "X.shape"
   ]
  },
  {
   "cell_type": "code",
   "execution_count": 86,
   "metadata": {
    "ExecuteTime": {
     "end_time": "2019-07-15T13:24:32.993126Z",
     "start_time": "2019-07-15T13:24:32.973969Z"
    }
   },
   "outputs": [
    {
     "data": {
      "text/plain": [
       "(5000,)"
      ]
     },
     "execution_count": 86,
     "metadata": {},
     "output_type": "execute_result"
    }
   ],
   "source": [
    "y = y.flatten()\n",
    "y.shape"
   ]
  },
  {
   "cell_type": "code",
   "execution_count": 74,
   "metadata": {
    "ExecuteTime": {
     "end_time": "2019-07-15T13:13:10.482374Z",
     "start_time": "2019-07-15T13:13:10.466571Z"
    }
   },
   "outputs": [],
   "source": [
    "from scipy.optimize import minimize\n"
   ]
  },
  {
   "cell_type": "code",
   "execution_count": 87,
   "metadata": {
    "ExecuteTime": {
     "end_time": "2019-07-15T13:24:40.902119Z",
     "start_time": "2019-07-15T13:24:40.867161Z"
    }
   },
   "outputs": [],
   "source": [
    "def one_vs_all(X, y, rate=1, k=10):\n",
    "    n = X.shape[1]\n",
    "#     print(n)\n",
    "    theta_all = np.zeros((k, n))\n",
    "    \n",
    "    for i in range(1, k + 1):\n",
    "        theta_i = np.zeros(n,)\n",
    "        res = minimize(fun=cost_func,\n",
    "                      x0=theta_i,\n",
    "                      args=(X, y==i, rate),\n",
    "                      method='TNC',\n",
    "                      jac=gradient_reg)\n",
    "        theta_all[i-1,:] = res.x\n",
    "    return theta_all"
   ]
  },
  {
   "cell_type": "code",
   "execution_count": 88,
   "metadata": {
    "ExecuteTime": {
     "end_time": "2019-07-15T13:24:47.181372Z",
     "start_time": "2019-07-15T13:24:43.218298Z"
    }
   },
   "outputs": [],
   "source": [
    "theta_final = one_vs_all(X, y)"
   ]
  },
  {
   "cell_type": "code",
   "execution_count": 89,
   "metadata": {
    "ExecuteTime": {
     "end_time": "2019-07-15T13:24:47.190171Z",
     "start_time": "2019-07-15T13:24:47.184573Z"
    }
   },
   "outputs": [
    {
     "data": {
      "text/plain": [
       "array([[-2.38286217e+00,  0.00000000e+00,  0.00000000e+00, ...,\n",
       "         1.30244646e-03, -3.22642321e-10,  0.00000000e+00],\n",
       "       [-3.18360635e+00,  0.00000000e+00,  0.00000000e+00, ...,\n",
       "         4.45712033e-03, -5.08159209e-04,  0.00000000e+00],\n",
       "       [-4.79645187e+00,  0.00000000e+00,  0.00000000e+00, ...,\n",
       "        -2.86927185e-05, -2.46719533e-07,  0.00000000e+00],\n",
       "       ...,\n",
       "       [-7.98732168e+00,  0.00000000e+00,  0.00000000e+00, ...,\n",
       "        -8.94142276e-05,  7.21113217e-06,  0.00000000e+00],\n",
       "       [-4.57153641e+00,  0.00000000e+00,  0.00000000e+00, ...,\n",
       "        -1.33411557e-03,  9.98457549e-05,  0.00000000e+00],\n",
       "       [-5.40460498e+00,  0.00000000e+00,  0.00000000e+00, ...,\n",
       "        -1.16568397e-04,  7.85905605e-06,  0.00000000e+00]])"
      ]
     },
     "execution_count": 89,
     "metadata": {},
     "output_type": "execute_result"
    }
   ],
   "source": [
    "theta_final"
   ]
  },
  {
   "cell_type": "code",
   "execution_count": 90,
   "metadata": {
    "ExecuteTime": {
     "end_time": "2019-07-15T13:24:51.368435Z",
     "start_time": "2019-07-15T13:24:51.355239Z"
    }
   },
   "outputs": [
    {
     "data": {
      "text/plain": [
       "(10, 401)"
      ]
     },
     "execution_count": 90,
     "metadata": {},
     "output_type": "execute_result"
    }
   ],
   "source": [
    "theta_final.shape"
   ]
  },
  {
   "cell_type": "code",
   "execution_count": 91,
   "metadata": {
    "ExecuteTime": {
     "end_time": "2019-07-15T13:27:23.672141Z",
     "start_time": "2019-07-15T13:27:23.649826Z"
    }
   },
   "outputs": [],
   "source": [
    "def predict(X, theta_final):\n",
    "    h = sigmod(X@theta_final.T) #(5000, 401) (10, 401) \n",
    "    h_argmax = np.argmax(h, axis=1)\n",
    "    return h_argmax + 1"
   ]
  },
  {
   "cell_type": "code",
   "execution_count": 92,
   "metadata": {
    "ExecuteTime": {
     "end_time": "2019-07-15T13:28:53.328164Z",
     "start_time": "2019-07-15T13:28:53.240288Z"
    }
   },
   "outputs": [],
   "source": [
    "y_pred = predict(X, theta_final)\n"
   ]
  },
  {
   "cell_type": "code",
   "execution_count": 93,
   "metadata": {
    "ExecuteTime": {
     "end_time": "2019-07-15T13:30:01.205248Z",
     "start_time": "2019-07-15T13:30:01.181783Z"
    }
   },
   "outputs": [
    {
     "data": {
      "text/plain": [
       "0.9446"
      ]
     },
     "execution_count": 93,
     "metadata": {},
     "output_type": "execute_result"
    }
   ],
   "source": [
    "accuracy = np.mean(y_pred == y)\n",
    "accuracy"
   ]
  },
  {
   "cell_type": "code",
   "execution_count": null,
   "metadata": {},
   "outputs": [],
   "source": []
  }
 ],
 "metadata": {
  "kernelspec": {
   "display_name": "Python 3",
   "language": "python",
   "name": "python3"
  },
  "language_info": {
   "codemirror_mode": {
    "name": "ipython",
    "version": 3
   },
   "file_extension": ".py",
   "mimetype": "text/x-python",
   "name": "python",
   "nbconvert_exporter": "python",
   "pygments_lexer": "ipython3",
   "version": "3.7.4"
  },
  "toc": {
   "base_numbering": 1,
   "nav_menu": {},
   "number_sections": true,
   "sideBar": true,
   "skip_h1_title": false,
   "title_cell": "Table of Contents",
   "title_sidebar": "Contents",
   "toc_cell": false,
   "toc_position": {},
   "toc_section_display": true,
   "toc_window_display": false
  }
 },
 "nbformat": 4,
 "nbformat_minor": 2
}
