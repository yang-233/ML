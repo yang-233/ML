{
 "cells": [
  {
   "cell_type": "markdown",
   "metadata": {},
   "source": [
    "# Build CNN"
   ]
  },
  {
   "cell_type": "markdown",
   "metadata": {},
   "source": [
    "## 1 Import data"
   ]
  },
  {
   "cell_type": "code",
   "execution_count": 1,
   "metadata": {},
   "outputs": [],
   "source": [
    "import numpy as np\n",
    "import pandas as pd\n",
    "import matplotlib.pyplot as plt\n",
    "import random\n",
    "from scipy.io import loadmat\n",
    "from scipy.optimize import minimize\n",
    "from sklearn.preprocessing import OneHotEncoder"
   ]
  },
  {
   "cell_type": "code",
   "execution_count": 2,
   "metadata": {},
   "outputs": [
    {
     "data": {
      "text/plain": [
       "{'__header__': b'MATLAB 5.0 MAT-file, Platform: GLNXA64, Created on: Sun Oct 16 13:09:09 2011',\n",
       " '__version__': '1.0',\n",
       " '__globals__': [],\n",
       " 'X': array([[0., 0., 0., ..., 0., 0., 0.],\n",
       "        [0., 0., 0., ..., 0., 0., 0.],\n",
       "        [0., 0., 0., ..., 0., 0., 0.],\n",
       "        ...,\n",
       "        [0., 0., 0., ..., 0., 0., 0.],\n",
       "        [0., 0., 0., ..., 0., 0., 0.],\n",
       "        [0., 0., 0., ..., 0., 0., 0.]]),\n",
       " 'y': array([[10],\n",
       "        [10],\n",
       "        [10],\n",
       "        ...,\n",
       "        [ 9],\n",
       "        [ 9],\n",
       "        [ 9]], dtype=uint8)}"
      ]
     },
     "execution_count": 2,
     "metadata": {},
     "output_type": "execute_result"
    }
   ],
   "source": [
    "data = loadmat(\"ex4data1.mat\")\n",
    "data"
   ]
  },
  {
   "cell_type": "code",
   "execution_count": 3,
   "metadata": {},
   "outputs": [
    {
     "data": {
      "text/plain": [
       "((5000, 400), (5000, 1))"
      ]
     },
     "execution_count": 3,
     "metadata": {},
     "output_type": "execute_result"
    }
   ],
   "source": [
    "X = data[\"X\"]\n",
    "y = data[\"y\"]\n",
    "X.shape, y.shape"
   ]
  },
  {
   "cell_type": "code",
   "execution_count": 4,
   "metadata": {},
   "outputs": [
    {
     "data": {
      "text/plain": [
       "(5000, 10)"
      ]
     },
     "execution_count": 4,
     "metadata": {},
     "output_type": "execute_result"
    }
   ],
   "source": [
    "encoder = OneHotEncoder(sparse=False, categories=\"auto\")\n",
    "y_onehot = encoder.fit_transform(y)\n",
    "y_onehot.shape"
   ]
  },
  {
   "cell_type": "code",
   "execution_count": null,
   "metadata": {},
   "outputs": [],
   "source": []
  },
  {
   "cell_type": "code",
   "execution_count": null,
   "metadata": {},
   "outputs": [],
   "source": [
    "import random\n",
    "#将400 转为 20*20图像\n",
    "def toImg(row):\n",
    "    width, height = 20, 20\n",
    "    square = row.reshape(width, height)\n",
    "    return square.T\n",
    "\n",
    "#展示图像\n",
    "def displayImg(X, indices_to_display = None):\n",
    "    width, height = 20, 20\n",
    "    nrows, ncols = 10, 10\n",
    "    if indices_to_display == None:\n",
    "        indices_to_display = random.sample(range(X.shape[0]), nrows * ncols)\n",
    "    big_picture = np.zeros((height * nrows, width * ncols))\n",
    "    irow , icol = 0, 0\n",
    "    for idx in indices_to_display:\n",
    "        if icol == ncols:\n",
    "            irow += 1\n",
    "            icol = 0\n",
    "        iimg = toImg(X[idx])\n",
    "        big_picture[(irow*height):(irow*height+iimg.shape[0]),\n",
    "                   (icol*width):(icol*width+iimg.shape[1])] = iimg\n",
    "        icol += 1\n",
    "    fig = plt.figure(figsize=(6, 6))\n",
    "    plt.imshow(big_picture, interpolation='nearest')\n",
    "displayImg(X)"
   ]
  },
  {
   "cell_type": "markdown",
   "metadata": {},
   "source": [
    "## 2 Convolution"
   ]
  },
  {
   "cell_type": "code",
   "execution_count": 5,
   "metadata": {},
   "outputs": [],
   "source": [
    "def convolution(Xi, kernal): #(20, 20) (5, 5)\n",
    "    xrow, xcol = Xi.shape\n",
    "    krow, kcol = kernal.shape\n",
    "    rrow, rcol = xrow - krow + 1, xcol - kcol + 1\n",
    "    res = np.zeros((rrow, rcol))    \n",
    "    for i in range(rrow):\n",
    "        for j in range(rcol):\n",
    "            res[i][j] = np.sum(Xi[i:i+krow, j:j+kcol] * kernal)\n",
    "    return res # (16, 16)"
   ]
  },
  {
   "cell_type": "markdown",
   "metadata": {},
   "source": [
    "## 3 Pooling"
   ]
  },
  {
   "cell_type": "code",
   "execution_count": 6,
   "metadata": {},
   "outputs": [],
   "source": [
    "def maxPooling(conv):\n",
    "    # use 2*2 pooling\n",
    "    row, col = conv.shape\n",
    "    res = np.zeros((row // 2, col // 2))\n",
    "    pooling_grad = np.zeros(conv.shape)\n",
    "    for i in range(0, row, 2):\n",
    "        for j in range(0, col, 2):\n",
    "            m = conv[i, j]\n",
    "            mr, mc = i, j\n",
    "            res[i//2,j//2] = np.max(conv[i:i+2,j:j+2])\n",
    "            idx = int(np.argmax(conv[i:i+2,j:j+2]))\n",
    "            pooling_grad[i+idx//2,j+idx%2] = 1\n",
    "    return res, pooling_grad"
   ]
  },
  {
   "cell_type": "code",
   "execution_count": null,
   "metadata": {},
   "outputs": [],
   "source": [
    "theta = np.random.rand(5,5)\n",
    "theta.shape"
   ]
  },
  {
   "cell_type": "code",
   "execution_count": null,
   "metadata": {},
   "outputs": [],
   "source": [
    "Xi = X[0].reshape((20,20))"
   ]
  },
  {
   "cell_type": "code",
   "execution_count": null,
   "metadata": {},
   "outputs": [],
   "source": [
    "%%time\n",
    "for i in range(100):\n",
    "    res, grad = maxPooling(convolution(Xi, theta))"
   ]
  },
  {
   "cell_type": "markdown",
   "metadata": {},
   "source": [
    "## 4 Sigmod\n"
   ]
  },
  {
   "cell_type": "code",
   "execution_count": 7,
   "metadata": {},
   "outputs": [],
   "source": [
    "def sigmod(z):\n",
    "    return 1 / (1 + np.exp(-z))"
   ]
  },
  {
   "cell_type": "markdown",
   "metadata": {},
   "source": [
    "## 5 Initializate thetas"
   ]
  },
  {
   "cell_type": "code",
   "execution_count": 8,
   "metadata": {},
   "outputs": [
    {
     "data": {
      "text/plain": [
       "(3340,)"
      ]
     },
     "execution_count": 8,
     "metadata": {},
     "output_type": "execute_result"
    }
   ],
   "source": [
    "input_size = 400\n",
    "inrow, incol = 20, 20\n",
    "num_units = 5\n",
    "krow, kcol = 5, 5\n",
    "prow, pcol = 2, 2\n",
    "conrow, concol = inrow - krow + 1, incol - kcol + 1\n",
    "hrow, hcol = (inrow - krow + 1) // 2, (incol - kcol + 1) // 2\n",
    "output_size = 10\n",
    "\n",
    "weights_size = (krow * kcol + 1 + # convolution layer\n",
    "                hrow * hcol * output_size) * num_units + output_size # output layer\n",
    "\n",
    "params = (np.random.random(size=weights_size) - 0.5) * 0.25\n",
    "params.shape\n",
    "\n",
    "# inrow, incol, num_units, krow, kcol, cnrow, cncol, hrow, hcol, output_size"
   ]
  },
  {
   "cell_type": "code",
   "execution_count": 9,
   "metadata": {},
   "outputs": [
    {
     "data": {
      "text/plain": [
       "((5, 5, 5), (5, 10, 8, 8), (5, 1), (10, 1))"
      ]
     },
     "execution_count": 9,
     "metadata": {},
     "output_type": "execute_result"
    }
   ],
   "source": [
    "def encode(theta1, theta2, b1, b2):\n",
    "    return np.concatenate((theta1.flatten(), theta2.flatten(), b1.flatten(), b2.flatten()))\n",
    "def decode(params, krow, kcol, hrow, hcol, num_units, output_size):\n",
    "    theta1 = params[: krow * kcol * num_units].reshape((num_units, krow, kcol)) # (5, 5, 5)\n",
    "    theta2 = params[krow * kcol * num_units: \n",
    "                   krow * kcol * num_units + \n",
    "                    hrow * hcol * output_size * num_units].reshape((num_units, output_size, hrow, hcol)) # (5, 10, 8,8)\n",
    "    b1 = params[-num_units - output_size: - output_size].reshape((num_units, 1))\n",
    "    b2 = params[-output_size:].reshape((output_size, 1))\n",
    "    return theta1, theta2, b1, b2\n",
    "t1, t2, b1, b2 = decode(params,krow, kcol, hrow, hcol, num_units, output_size)\n",
    "t1.shape, t2.shape, b1.shape, b2.shape\n",
    "\n"
   ]
  },
  {
   "cell_type": "code",
   "execution_count": null,
   "metadata": {},
   "outputs": [],
   "source": [
    "len(encode(t1, t2, b1, b2))"
   ]
  },
  {
   "cell_type": "markdown",
   "metadata": {},
   "source": [
    "## 6 Forward propagate"
   ]
  },
  {
   "cell_type": "code",
   "execution_count": 10,
   "metadata": {},
   "outputs": [],
   "source": [
    "def forwardPropagate(Xi, theta1, theta2, b1, b2):\n",
    "    a1 = Xi.reshape(inrow, incol) # (20, 20)\n",
    "    z2 = np.zeros((num_units, conrow, concol)) # (5, 16, 16) \n",
    "    a2 = np.zeros((num_units, conrow, concol)) # (5, 16, 16)\n",
    "    pooling_grad = np.zeros((num_units, conrow, concol)) # (5, 16, 16)\n",
    "    a3 = np.zeros((num_units, hrow, hcol)) # (5, 8, 8) z3 = a3\n",
    "    z4 = np.zeros((output_size, 1)) # (10, 1)\n",
    "    a4 = np.zeros((output_size, 1)) # (10, 1)\n",
    "    for i in range(num_units):\n",
    "        z2[i] = convolution(a1, theta1[i]) + b1[i] # (16, 16)\n",
    "    a2 = sigmod(z2)\n",
    "    for i in range(num_units):\n",
    "        a3[i], pooling_grad[i] = maxPooling(a2[i]) # (8, 8) (16, 16)\n",
    "        for j in range(output_size):\n",
    "            z4[j] += np.sum(a3[i] * theta2[i,j])\n",
    "    z4 += b2\n",
    "    a4 = sigmod(z4)\n",
    "    return a1, z2, a2, pooling_grad, a3, z4, a4\n",
    "a1, z2, a2, pooling_grad, a3, z4, a4  = forwardPropagate(X[0], t1, t2, b1, b2)\n",
    "temp = a3[0].reshape(1, *a3[0].shape)"
   ]
  },
  {
   "cell_type": "code",
   "execution_count": null,
   "metadata": {},
   "outputs": [],
   "source": []
  },
  {
   "cell_type": "code",
   "execution_count": null,
   "metadata": {},
   "outputs": [],
   "source": [
    "%%time \n",
    "for i in range(1000):\n",
    "    a = forwardPropagate(X[0], t1, t2, b1, b2)"
   ]
  },
  {
   "cell_type": "markdown",
   "metadata": {},
   "source": [
    "## 7 Predict and compute accuracy"
   ]
  },
  {
   "cell_type": "code",
   "execution_count": 11,
   "metadata": {},
   "outputs": [
    {
     "data": {
      "text/plain": [
       "'accuracy = 0.0%'"
      ]
     },
     "execution_count": 11,
     "metadata": {},
     "output_type": "execute_result"
    }
   ],
   "source": [
    "def computeAccuracy(X, y, theta1, theta2, b1, b2):\n",
    "    m = X.shape[0]\n",
    "    correct = 0\n",
    "    for i in range(m):\n",
    "        a1, z2, a2, pooling_grad, a3, z4, a4 = forwardPropagate(X[i], theta1, theta2, b1, b2)\n",
    "        #h = a3.flatten()\n",
    "        correct += int(np.argmax(a4) + 1 == y[i])\n",
    "    return \"accuracy = {0}%\".format(100 * correct / m)\n",
    "computeAccuracy(X[:500], y, t1, t2, b1, b2)"
   ]
  },
  {
   "cell_type": "markdown",
   "metadata": {},
   "source": [
    "## 8 Cost function"
   ]
  },
  {
   "cell_type": "code",
   "execution_count": 12,
   "metadata": {},
   "outputs": [],
   "source": [
    "def cost(params, X, y, learning_rate=0.):\n",
    "    m = X.shape[0]\n",
    "    theta1, theta2, b1, b2 = decode(params, krow, kcol, hrow, hcol, num_units, output_size)\n",
    "    J = 0.\n",
    "    for i in range(m):\n",
    "        a1, z2, a2, pooling_grad, a3, z4, a4 = forwardPropagate(X[i], theta1, theta2, b1, b2)\n",
    "        tempy = y[i].reshape((output_size, 1)) # (10, 1)\n",
    "        first_term = tempy * np.log(a4) # (10, 1)\n",
    "        second_term = (1 - tempy) * np.log(1 - a4) # (10, 1)\n",
    "        J += -np.sum(first_term + second_term)\n",
    "    J /= m\n",
    "    J += (float(learning_rate) / (2 * m)) * \\\n",
    "        (np.sum(theta1 **2) + np.sum(theta2 ** 2))\n",
    "    return J"
   ]
  },
  {
   "cell_type": "code",
   "execution_count": 13,
   "metadata": {},
   "outputs": [
    {
     "data": {
      "text/plain": [
       "7.00781815765457"
      ]
     },
     "execution_count": 13,
     "metadata": {},
     "output_type": "execute_result"
    }
   ],
   "source": [
    "cost(params, X[:50,:], y_onehot)"
   ]
  },
  {
   "cell_type": "markdown",
   "metadata": {},
   "source": [
    "## 9 Sigmod gradient"
   ]
  },
  {
   "cell_type": "code",
   "execution_count": 14,
   "metadata": {},
   "outputs": [],
   "source": [
    "def sigmodGradient(z):\n",
    "    t = sigmod(z)\n",
    "    return t * (1 - t)"
   ]
  },
  {
   "cell_type": "markdown",
   "metadata": {},
   "source": [
    "## 10 Backpropagation"
   ]
  },
  {
   "cell_type": "code",
   "execution_count": 15,
   "metadata": {},
   "outputs": [],
   "source": [
    "def backPropagate(params, inrow, incol, num_units, krow, kcol, \n",
    "                  conrow, concol, hrow, hcol, output_size, X, y, learning_rate=0.):\n",
    "    m = X.shape[0]\n",
    "    theta1, theta2, b1, b2 = decode(params, krow, kcol, hrow, hcol, num_units, output_size)\n",
    "    J = 0.\n",
    "    delta1 = np.zeros(theta1.shape) # (5, 5, 5)\n",
    "    delta2 = np.zeros(theta2.shape) # (5, 10, 8, 8)\n",
    "    \n",
    "    belta1 = np.zeros(b1.shape) # (5, 1)\n",
    "    belta2 = np.zeros(b2.shape) # (10, 1)\n",
    "    \n",
    "    for i in range(m):\n",
    "        a1, z2, a2, pooling_grad, a3, z4, a4 = forwardPropagate(X[i], theta1, theta2, b1, b2)\n",
    "        tempy = y[i,:].reshape((output_size, 1)) # (10, 1)\n",
    "        first_term = tempy * np.log(a4) # (10, 1)\n",
    "        second_term = (1 - tempy) * np.log(1 - a4) # (10, 1)\n",
    "        J += -np.sum(first_term + second_term)\n",
    "        dt2 = a4 - tempy  # (10, 1)\n",
    "        belta2 += dt2  # det b2\n",
    "        for j in range(num_units):\n",
    "            temp = np.zeros((output_size, hrow, hcol)) # (10, 8, 8)\n",
    "            for k in range(output_size):\n",
    "                temp[k] = a3[j].copy()\n",
    "            delta2[j] += dt2.reshape((output_size, 1, 1)) * temp  # (10, 8, 8) det w2\n",
    "                        \n",
    "            dt1 = np.zeros((conrow, concol))\n",
    "            for p in range(conrow):\n",
    "                for q in range(concol):\n",
    "                    if pooling_grad[j,p,q] == 1.:\n",
    "                        val = np.zeros((output_size, 1))\n",
    "                        p1 = p // 2\n",
    "                        q1 = p // 2\n",
    "                        for k in range(output_size):\n",
    "                            val[k,0] = theta2[j,k,p1,q1]\n",
    "                        \n",
    "                        dt1[p, q] = np.sum(val * dt2) * z2[j,p,q] * (1 - z2[j,p,q])\n",
    "\n",
    "            belta1[j] += np.sum(dt1) # det b1\n",
    "            for p in range(krow):\n",
    "                for q in range(kcol):\n",
    "                    delta1[j, p, q] += np.sum(a1[p:p+conrow, q:q+concol] * dt1) # det w1\n",
    "    J /= m\n",
    "    delta1 /= m\n",
    "    delta2 /= m\n",
    "    belta1 /= m\n",
    "    belta2 /= m\n",
    "        \n",
    "    J += (float(learning_rate) / (2 * m)) * (np.sum(theta1 ** 2) + np.sum(theta2 ** 2))\n",
    "    delta1 += theta1 * learning_rate / m\n",
    "    delta2 += theta2 * learning_rate / m\n",
    "    return J, encode(delta1, delta2, b1, b2)\n",
    "J, grad = backPropagate(params, inrow, incol, num_units, krow, kcol, \n",
    "                  conrow, concol, hrow, hcol, output_size, X[:50], y_onehot)"
   ]
  },
  {
   "cell_type": "code",
   "execution_count": 16,
   "metadata": {},
   "outputs": [
    {
     "data": {
      "text/plain": [
       "7.00781815765457"
      ]
     },
     "execution_count": 16,
     "metadata": {},
     "output_type": "execute_result"
    }
   ],
   "source": [
    "J"
   ]
  },
  {
   "cell_type": "markdown",
   "metadata": {},
   "source": [
    "## 11 Gradient checking"
   ]
  },
  {
   "cell_type": "code",
   "execution_count": 17,
   "metadata": {},
   "outputs": [
    {
     "name": "stdout",
     "output_type": "stream",
     "text": [
      "Element: 1141. Numerical grad = 0.1698189864329791 BP grad = 0.1698189864097883\n",
      "Element: 1839. Numerical grad = 0.388033229592466 BP grad = 0.388033229621091\n",
      "Element: 3165. Numerical grad = 0.24336524093726553 BP grad = 0.24336524094437387\n",
      "Element: 2236. Numerical grad = 0.3221115512719308 BP grad = 0.3221115512766495\n",
      "Element: 293. Numerical grad = 0.3020626373029245 BP grad = 0.3020626373027978\n",
      "Element: 1347. Numerical grad = -0.20892603319389025 BP grad = -0.2089260331760786\n",
      "Element: 1840. Numerical grad = 0.4024857515982916 BP grad = 0.402485751601525\n",
      "Element: 2101. Numerical grad = 0.21397701440495354 BP grad = 0.2139770143893763\n",
      "Element: 2527. Numerical grad = 0.3110641136139236 BP grad = 0.3110641136059142\n",
      "Element: 1059. Numerical grad = 0.1325969931453841 BP grad = 0.13259699312139706\n"
     ]
    }
   ],
   "source": [
    "def checkGradient(params, grad, krow, kcol, \n",
    "                  hrow, hcol, num_units, output_size, X, y, leraning_rate=0.):\n",
    "    eps = 1e-4\n",
    "    n = len(params)\n",
    "    for i in range(10):\n",
    "        x = random.randint(0, n - 1)\n",
    "        epsvec = np.zeros(n)\n",
    "        epsvec[x] = eps\n",
    "        cost_high = cost(params + epsvec, X, y_onehot)\n",
    "        cost_low = cost(params - epsvec, X, y_onehot)\n",
    "        mygrad = (cost_high - cost_low) / (2 * eps)\n",
    "        print(f\"Element: {x}. Numerical grad = {mygrad} BP grad = {grad[x]}\")\n",
    "\n",
    "checkGradient(params, grad, krow, kcol, hrow, hcol, num_units, output_size, X[:50], y_onehot)\n",
    "#len(grad)"
   ]
  },
  {
   "cell_type": "code",
   "execution_count": null,
   "metadata": {},
   "outputs": [],
   "source": [
    "learning_rate = 0.03"
   ]
  },
  {
   "cell_type": "markdown",
   "metadata": {},
   "source": [
    "## 12 Training"
   ]
  },
  {
   "cell_type": "code",
   "execution_count": null,
   "metadata": {},
   "outputs": [],
   "source": [
    "%%time\n",
    "fmin = minimize(fun=backPropagate, x0=params,\n",
    "               args=(inrow, incol, num_units, krow, kcol, \n",
    "                  conrow, concol, hrow, hcol, output_size, X[:50], y_onehot[:50], learning_rate),\n",
    "               method=\"TNC\", jac=True, options={\"maxiter\": 50})\n",
    "fmin"
   ]
  },
  {
   "cell_type": "markdown",
   "metadata": {},
   "source": [
    "## 13 Compute accuracy"
   ]
  },
  {
   "cell_type": "code",
   "execution_count": 45,
   "metadata": {},
   "outputs": [],
   "source": [
    "def ComputeAccuracy(params, X, y):\n",
    "    t1, t2, b1, b2 = decode(params, krow, kcol, hrow, hcol, num_units, output_size)\n",
    "    m = X.shape[0]\n",
    "    correct = 0\n",
    "    for i in range(m):\n",
    "        a1, z2, a2, pooling_grad, a3, z4, a4  = forwardPropagate(X[0], t1, t2, b1, b2)\n",
    "        correct += int(np.argmax(a4) + 1 == y[i])\n",
    "    print(\"accuracy = {0}%\".format(100 * correct / m))\n",
    "\n"
   ]
  },
  {
   "cell_type": "markdown",
   "metadata": {},
   "source": [
    "## 14 Mini data set"
   ]
  },
  {
   "cell_type": "code",
   "execution_count": 26,
   "metadata": {},
   "outputs": [],
   "source": [
    "tr_X = []\n",
    "tr_y_onehot = []\n",
    "tr_y = []\n",
    "\n",
    "ts_X = []\n",
    "ts_y_onehot = []\n",
    "ts_y = []\n",
    "m = X.shape[0]\n",
    "n = m // 100\n",
    "for i in range(0, m, m // 10):\n",
    "    tr_X.append(X[i:i+n])\n",
    "    tr_y.append(y[i:i+n])\n",
    "    tr_y_onehot.append(y_onehot[i:i+n])\n",
    "    \n",
    "    ts_X.append(X[i+n:i+2*n])\n",
    "    ts_y.append(y[i+n:i+2*n])\n",
    "    ts_y_onehot.append(y_onehot[i+n:i+2*n])\n",
    "    \n",
    "def connect(a, b):\n",
    "    return np.concatenate((a.ravel(), b.ravel()))\n",
    "from functools import reduce\n",
    "\n",
    "res = reduce(connect, tr_X)\n",
    "tr_X = res.reshape((500, 400))\n",
    "\n",
    "res = reduce(connect, ts_X)\n",
    "ts_X = res.reshape((500, 400))\n",
    "res = reduce(connect, tr_y)\n",
    "tr_y = res.reshape((500,1))\n",
    "res = reduce(connect, ts_y)\n",
    "ts_y = res.reshape((500,1))\n",
    "res = reduce(connect, tr_y_onehot)\n",
    "tr_y_onehot = res.reshape((500,10))\n",
    "res = reduce(connect, ts_y_onehot)\n",
    "ts_y_onehot = res.reshape((500,10))"
   ]
  },
  {
   "cell_type": "code",
   "execution_count": 27,
   "metadata": {},
   "outputs": [],
   "source": [
    "def connect(a, b):\n",
    "    return np.concatenate((a.ravel(), b.ravel()))\n"
   ]
  },
  {
   "cell_type": "raw",
   "metadata": {},
   "source": [
    "from functools import reduce\n",
    "\n"
   ]
  },
  {
   "cell_type": "code",
   "execution_count": 34,
   "metadata": {},
   "outputs": [],
   "source": [
    "res = reduce(connect, tr_X)\n",
    "tr_X = res.reshape((500, 400))"
   ]
  },
  {
   "cell_type": "code",
   "execution_count": 36,
   "metadata": {},
   "outputs": [],
   "source": [
    "res = reduce(connect, ts_X)\n",
    "ts_X = res.reshape((500, 400))"
   ]
  },
  {
   "cell_type": "code",
   "execution_count": 37,
   "metadata": {},
   "outputs": [],
   "source": [
    "res = reduce(connect, tr_y)\n",
    "tr_y = res.reshape((500,1))"
   ]
  },
  {
   "cell_type": "code",
   "execution_count": 38,
   "metadata": {},
   "outputs": [],
   "source": [
    "res = reduce(connect, ts_y)\n",
    "ts_y = res.reshape((500,1))"
   ]
  },
  {
   "cell_type": "code",
   "execution_count": 40,
   "metadata": {},
   "outputs": [],
   "source": [
    "res = reduce(connect, tr_y_onehot)\n",
    "tr_y_onehot = res.reshape((500,10))"
   ]
  },
  {
   "cell_type": "code",
   "execution_count": 41,
   "metadata": {},
   "outputs": [],
   "source": [
    "res = reduce(connect, ts_y_onehot)\n",
    "ts_y_onehot = res.reshape((500,10))"
   ]
  },
  {
   "cell_type": "code",
   "execution_count": 43,
   "metadata": {},
   "outputs": [
    {
     "name": "stdout",
     "output_type": "stream",
     "text": [
      "CPU times: user 10min 55s, sys: 263 ms, total: 10min 55s\n",
      "Wall time: 10min 55s\n"
     ]
    },
    {
     "data": {
      "text/plain": [
       "     fun: 3.2519567121748576\n",
       "     jac: array([ 0.00343404,  0.00281325,  0.00291663, ...,  0.07922207,\n",
       "       -0.04721059, -0.00874855])\n",
       " message: 'Max. number of function evaluations reached'\n",
       "    nfev: 100\n",
       "     nit: 4\n",
       "  status: 3\n",
       " success: False\n",
       "       x: array([-0.0331151 , -0.10692069,  0.02858255, ...,  0.07922207,\n",
       "       -0.04721059, -0.00874855])"
      ]
     },
     "execution_count": 43,
     "metadata": {},
     "output_type": "execute_result"
    }
   ],
   "source": [
    "%%time\n",
    "fmin = minimize(fun=backPropagate, x0=params,\n",
    "               args=(inrow, incol, num_units, krow, kcol, \n",
    "                  conrow, concol, hrow, hcol, output_size, tr_X, tr_y_onehot, 0.05),\n",
    "               method=\"TNC\", jac=True, options={\"maxiter\": 100})\n",
    "fmin"
   ]
  },
  {
   "cell_type": "code",
   "execution_count": 53,
   "metadata": {},
   "outputs": [
    {
     "name": "stdout",
     "output_type": "stream",
     "text": [
      "accuracy = 10.0%\n"
     ]
    }
   ],
   "source": [
    "ComputeAccuracy(fmin.x, tr_X, tr_y)"
   ]
  },
  {
   "cell_type": "code",
   "execution_count": 54,
   "metadata": {},
   "outputs": [],
   "source": [
    "def predict(Xi, t1, t2, b1, b2):\n",
    "    *a, h = forwardPropagate(Xi, t1, t2, b1, b2)\n",
    "    return np.argmax(h) + 1\n"
   ]
  },
  {
   "cell_type": "code",
   "execution_count": 73,
   "metadata": {},
   "outputs": [
    {
     "data": {
      "text/plain": [
       "8"
      ]
     },
     "execution_count": 73,
     "metadata": {},
     "output_type": "execute_result"
    }
   ],
   "source": [
    "predict( tr_X[340], *decode(fmin.x, krow, kcol, hrow, hcol, num_units, output_size))"
   ]
  },
  {
   "cell_type": "code",
   "execution_count": 69,
   "metadata": {},
   "outputs": [
    {
     "data": {
      "text/plain": [
       "7"
      ]
     },
     "execution_count": 69,
     "metadata": {},
     "output_type": "execute_result"
    }
   ],
   "source": [
    "predict( tr_X[400], *decode(params, krow, kcol, hrow, hcol, num_units, output_size))"
   ]
  },
  {
   "cell_type": "code",
   "execution_count": 87,
   "metadata": {},
   "outputs": [
    {
     "data": {
      "text/plain": [
       "0.1"
      ]
     },
     "execution_count": 87,
     "metadata": {},
     "output_type": "execute_result"
    }
   ],
   "source": [
    "def compute(X, y, weights):\n",
    "    m = X.shape[0]\n",
    "    c = 0\n",
    "    t1, t2, b1, b2 = decode(weights, krow, kcol, hrow, hcol, num_units, output_size)\n",
    "    for i in range(m):\n",
    "        res = predict( X[i], t1, t2, b1, b2)\n",
    "        c += (res == y[i])[0]\n",
    "    return c / m\n",
    "compute(ts_X, ts_y, params)"
   ]
  },
  {
   "cell_type": "code",
   "execution_count": null,
   "metadata": {},
   "outputs": [],
   "source": []
  }
 ],
 "metadata": {
  "kernelspec": {
   "display_name": "Python 3",
   "language": "python",
   "name": "python3"
  },
  "language_info": {
   "codemirror_mode": {
    "name": "ipython",
    "version": 3
   },
   "file_extension": ".py",
   "mimetype": "text/x-python",
   "name": "python",
   "nbconvert_exporter": "python",
   "pygments_lexer": "ipython3",
   "version": "3.6.8"
  }
 },
 "nbformat": 4,
 "nbformat_minor": 2
}
