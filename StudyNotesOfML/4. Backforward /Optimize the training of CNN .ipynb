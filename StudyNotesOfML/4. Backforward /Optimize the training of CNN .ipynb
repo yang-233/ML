{
 "cells": [
  {
   "cell_type": "markdown",
   "metadata": {},
   "source": [
    "# Try to use gpu "
   ]
  },
  {
   "cell_type": "markdown",
   "metadata": {},
   "source": [
    "## 1 Import package"
   ]
  },
  {
   "cell_type": "code",
   "execution_count": 1,
   "metadata": {},
   "outputs": [
    {
     "name": "stderr",
     "output_type": "stream",
     "text": [
      "\u001b[31mW1024 21:34:27 2758 minpy.dispatch.registry:register:47]\u001b[0m Type MXNet for name reshape has already existed\n"
     ]
    }
   ],
   "source": [
    "import numpy\n",
    "import minpy.numpy\n",
    "import cupy\n",
    "import pandas\n",
    "import matplotlib.pyplot as plt\n",
    "import random\n",
    "from scipy.io import loadmat\n",
    "from scipy.optimize import minimize\n",
    "from sklearn.preprocessing import OneHotEncoder\n",
    "from scipy.special import expit"
   ]
  },
  {
   "cell_type": "markdown",
   "metadata": {},
   "source": [
    "## 2 Choose whether to use gpu"
   ]
  },
  {
   "cell_type": "code",
   "execution_count": 2,
   "metadata": {},
   "outputs": [],
   "source": [
    "np = numpy # Only use cpu"
   ]
  },
  {
   "cell_type": "markdown",
   "metadata": {},
   "source": [
    "## 3 Determine the network structure"
   ]
  },
  {
   "cell_type": "code",
   "execution_count": 3,
   "metadata": {},
   "outputs": [
    {
     "data": {
      "text/plain": [
       "(3340,)"
      ]
     },
     "execution_count": 3,
     "metadata": {},
     "output_type": "execute_result"
    }
   ],
   "source": [
    "num_units = 5 # the CNN ' size\n",
    "in_size = 20 # input size is (20, 20)\n",
    "k_size = 5 # the filtter size is (5, 5)\n",
    "c_size = in_size - k_size + 1 # the convolution result's size is (16, 16) \n",
    "pf_size = 2 # the pooling fillters' size is (2, 2)\n",
    "p_size = c_size // pf_size # the pooling results' size is (8, 8) \n",
    "output_size = 10\n",
    "\n",
    "weights_size = (k_size * k_size + 1 +# w and b of convolution layer\n",
    "                p_size * p_size * output_size) * num_units + output_size # w of output layer\n",
    "params = (np.random.random(size=weights_size) - 0.5) * 0.25 # all weights\n",
    "params.shape"
   ]
  },
  {
   "cell_type": "markdown",
   "metadata": {},
   "source": [
    "## 4 Initializate data set"
   ]
  },
  {
   "cell_type": "code",
   "execution_count": 4,
   "metadata": {},
   "outputs": [
    {
     "data": {
      "text/plain": [
       "((3500, 20, 20), (3500, 10, 1), (1500, 20, 20), (1500, 1))"
      ]
     },
     "execution_count": 4,
     "metadata": {},
     "output_type": "execute_result"
    }
   ],
   "source": [
    "data = loadmat(\"ex4data1.mat\")\n",
    "X = data[\"X\"]\n",
    "m = X.shape[0]\n",
    "X = X.reshape((m, in_size, in_size))\n",
    "y = data[\"y\"]\n",
    "\n",
    "training_set_scale = 0.7\n",
    "tr_m = int(m * training_set_scale)\n",
    "tr_X = np.array(X[:tr_m])\n",
    "ts_m = m - tr_m\n",
    "ts_X = np.array(X[tr_m:])\n",
    "onehot_encoder = OneHotEncoder(sparse=False, categories=\"auto\")\n",
    "y_onehot = onehot_encoder.fit_transform(y)\n",
    "tr_y = np.array(y_onehot[:tr_m]).reshape((tr_m, output_size, 1))\n",
    "ts_y = np.array(y[tr_m:])\n",
    "\n",
    "tr_X.shape, tr_y.shape, ts_X.shape, ts_y.shape"
   ]
  },
  {
   "cell_type": "markdown",
   "metadata": {},
   "source": [
    "## 5 Initializate weights"
   ]
  },
  {
   "cell_type": "code",
   "execution_count": 5,
   "metadata": {},
   "outputs": [
    {
     "data": {
      "text/plain": [
       "(3340,)"
      ]
     },
     "execution_count": 5,
     "metadata": {},
     "output_type": "execute_result"
    }
   ],
   "source": [
    "weights = (np.random.random(size=weights_size) - 0.5) * 0.25\n",
    "weights.shape"
   ]
  },
  {
   "cell_type": "markdown",
   "metadata": {},
   "source": [
    "## 6 Encode and decode weights"
   ]
  },
  {
   "cell_type": "code",
   "execution_count": 143,
   "metadata": {},
   "outputs": [],
   "source": [
    "def encode(theta1, theta2, b1, b2):\n",
    "    return np.concatenate((theta1.ravel(), theta2.ravel(), b1.ravel(), b2.ravel()))\n",
    "def decode(weights, num_units, k_size, p_size, output_size):\n",
    "    theta1 = weights[:num_units*k_size*k_size].reshape((num_units, k_size, k_size))\n",
    "    theta2 = weights[num_units*k_size*k_size:-output_size-num_units].reshape((num_units, p_size, p_size, output_size))\n",
    "    b1 = weights[-output_size-num_units:-output_size].reshape((num_units, 1))\n",
    "    b2 = weights[-output_size:].reshape((output_size, 1))\n",
    "    return theta1, theta2, b1, b2"
   ]
  },
  {
   "cell_type": "code",
   "execution_count": 144,
   "metadata": {},
   "outputs": [
    {
     "data": {
      "text/plain": [
       "((5, 5, 5), (5, 1), (5, 8, 8, 10), (10, 1))"
      ]
     },
     "execution_count": 144,
     "metadata": {},
     "output_type": "execute_result"
    }
   ],
   "source": [
    "theta1, theta2, b1, b2 = decode(weights, num_units, k_size, p_size, output_size)\n",
    "theta1.shape, b1.shape, theta2.shape, b2.shape"
   ]
  },
  {
   "cell_type": "code",
   "execution_count": 30,
   "metadata": {},
   "outputs": [
    {
     "data": {
      "text/plain": [
       "(3340,)"
      ]
     },
     "execution_count": 30,
     "metadata": {},
     "output_type": "execute_result"
    }
   ],
   "source": [
    "encode(theta1, b1, theta2, b2).shape"
   ]
  },
  {
   "cell_type": "code",
   "execution_count": 31,
   "metadata": {},
   "outputs": [
    {
     "data": {
      "text/plain": [
       "3340"
      ]
     },
     "execution_count": 31,
     "metadata": {},
     "output_type": "execute_result"
    }
   ],
   "source": [
    "theta1.size + b1.size + theta2.size + b2.size"
   ]
  },
  {
   "cell_type": "markdown",
   "metadata": {},
   "source": [
    "## 7 Convolution"
   ]
  },
  {
   "cell_type": "code",
   "execution_count": 38,
   "metadata": {},
   "outputs": [],
   "source": [
    "def convolution(X, w, k_size, c_size):\n",
    "    res = np.zeros((c_size, c_size))\n",
    "    for i in range(c_size):\n",
    "        for j in range(c_size):\n",
    "            res[i,j] = np.sum(w * X[i:i+k_size,j:j+k_size])\n",
    "    return res # (16, 16)"
   ]
  },
  {
   "cell_type": "markdown",
   "metadata": {},
   "source": [
    "## 8 Pooling"
   ]
  },
  {
   "cell_type": "code",
   "execution_count": 39,
   "metadata": {},
   "outputs": [],
   "source": [
    "def maxPooling(conv, c_size, pf_size, p_size):\n",
    "    res = np.zeros((p_size, p_size))\n",
    "    grad = np.zeros((c_size, c_size))\n",
    "    for i in range(0, c_size, pf_size):\n",
    "        for j in range(0, c_size, pf_size):\n",
    "            res[i//pf_size,j//pf_size] = np.max(conv[i:i+pf_size,j:j+pf_size])\n",
    "            idx = np.argmax(conv[i:i+pf_size,j:j+pf_size])\n",
    "            grad[i+idx//pf_size,j+idx%pf_size] = 1\n",
    "    return res, grad"
   ]
  },
  {
   "cell_type": "code",
   "execution_count": 40,
   "metadata": {},
   "outputs": [],
   "source": [
    "#res, grad = maxPooling(a, crow, ccol, pfrow, pfcol, prow, pcol)\n",
    "a = np.array([i for i in range(36)]).reshape((6,6))\n",
    "b = np.array([[1, 1, 1], [1, 1, 1], [1, 1, 1]])\n",
    "c = convolution(a, b, 3, 4)\n",
    "res, grad = maxPooling(c, 4, 2, 2)"
   ]
  },
  {
   "cell_type": "markdown",
   "metadata": {},
   "source": [
    "## 9 Sigmod"
   ]
  },
  {
   "cell_type": "code",
   "execution_count": 145,
   "metadata": {},
   "outputs": [],
   "source": [
    "sigmod = expit"
   ]
  },
  {
   "cell_type": "markdown",
   "metadata": {},
   "source": [
    "## 10 Forward propagate"
   ]
  },
  {
   "cell_type": "code",
   "execution_count": 146,
   "metadata": {},
   "outputs": [],
   "source": [
    "def forwardPropagate(X, theta1, b1, theta2, b2, num_units, k_size,\n",
    "                    c_size, p_size, output_size):\n",
    "    a1 = X # (20, 20)\n",
    "    z2 = np.zeros((num_units, c_size, c_size)) # (5, 16, 16)\n",
    "    a2 = z2.copy() # (5, 16, 16)\n",
    "    pooling_grad = z2.copy() # (5, 16, 16)\n",
    "    a3 = np.zeros((num_units, p_size, p_size)) # (5, 8, 8)\n",
    "    z4 = np.zeros((output_size, 1)) # (10, 1)\n",
    "    a4 = z4.copy() # (10, 1)\n",
    "    \n",
    "    for i in range(num_units):\n",
    "        z2[i] = convolution(X, theta1[i], k_size, c_size) + b1[i] # (16, 16)\n",
    "    a2 = sigmod(z2) # (5, 16, 16)\n",
    "    for i in range(num_units):\n",
    "        a3[i], pooling_grad[i] = maxPooling(a2[i], c_size, pf_size, p_size)\n",
    "    \n",
    "    temp_theta2 = theta2.reshape((output_size, num_units * p_size * p_size)) # (10, 5*8*8)\n",
    "    temp_a3 = a3.reshape((num_units * p_size * p_size, 1)) #(5*8*8, 1)\n",
    "    \n",
    "    z4 = temp_theta2 @ temp_a3 + b2# (10, 1)\n",
    "    a4 = sigmod(z4)\n",
    "    return a1, z2, a2, pooling_grad, a3, z4, a4\n",
    "a = forwardPropagate(X[0], theta1, b1, theta2, b2, num_units, k_size,\n",
    "                    c_size, p_size, output_size)"
   ]
  },
  {
   "cell_type": "code",
   "execution_count": 147,
   "metadata": {},
   "outputs": [
    {
     "data": {
      "text/plain": [
       "2300.2960952125304"
      ]
     },
     "execution_count": 147,
     "metadata": {},
     "output_type": "execute_result"
    }
   ],
   "source": [
    "def cost(weights, X, num_units, k_size,\n",
    "                    c_size, p_size, output_size, lam=0.):\n",
    "    theta1, theta2, b1, b2 = decode(weights, num_units, k_size, p_size, output_size)\n",
    "    m = X.shape[0]\n",
    "    J = 0.\n",
    "    for i in range(m):\n",
    "        a1, z2, a2, pooling_grad, a3, z4, a4 = forwardPropagate(X[0], theta1, b1, theta2, b2, \n",
    "        num_units, k_size, c_size, p_size, output_size)\n",
    "        first_term = y[i] * np.log(a4)\n",
    "        second_term = (1 - y[i]) * np.log(1 - a4)\n",
    "        J += -np.sum(first_term + second_term)\n",
    "    J /= m\n",
    "    \n",
    "    J += (float(lam) / (2 * m)) * \\\n",
    "        (np.sum(theta1 **2) + np.sum(theta2 ** 2))\n",
    "    return J\n",
    "a = cost(weights, tr_X[:1], num_units, k_size,\n",
    "                    c_size, p_size, output_size)\n",
    "a"
   ]
  },
  {
   "cell_type": "code",
   "execution_count": 86,
   "metadata": {},
   "outputs": [
    {
     "name": "stdout",
     "output_type": "stream",
     "text": [
      "(20, 20)\n",
      "(5, 16, 16)\n",
      "(5, 16, 16)\n",
      "(5, 16, 16)\n",
      "(5, 8, 8)\n",
      "(10, 1)\n",
      "(10, 1)\n",
      "CPU times: user 28.4 ms, sys: 12.6 ms, total: 41 ms\n",
      "Wall time: 29.5 ms\n"
     ]
    }
   ],
   "source": [
    "%%time\n",
    "a = forwardPropagate(X[0], theta1, b1, theta2, b2, num_units, k_size,\n",
    "                    c_size, p_size, output_size)\n",
    "for i in a:\n",
    "    print(i.shape)"
   ]
  },
  {
   "cell_type": "code",
   "execution_count": null,
   "metadata": {},
   "outputs": [],
   "source": []
  },
  {
   "cell_type": "code",
   "execution_count": 43,
   "metadata": {},
   "outputs": [
    {
     "data": {
      "text/plain": [
       "((5, 5, 5), (5, 10, 8, 8), (5, 1), (10, 1))"
      ]
     },
     "execution_count": 43,
     "metadata": {},
     "output_type": "execute_result"
    }
   ],
   "source": [
    "def tencode(theta1, theta2, b1, b2):\n",
    "    return np.concatenate((theta1.flatten(), theta2.flatten(), b1.flatten(), b2.flatten()))\n",
    "def tdecode(params, krow, kcol, hrow, hcol, num_units, output_size):\n",
    "    theta1 = params[: krow * kcol * num_units].reshape((num_units, krow, kcol)) # (5, 5, 5)\n",
    "    theta2 = params[krow * kcol * num_units: \n",
    "                   krow * kcol * num_units + \n",
    "                    hrow * hcol * output_size * num_units].reshape((num_units, output_size, hrow, hcol)) # (5, 10, 8,8)\n",
    "    b1 = params[-num_units - output_size: - output_size].reshape((num_units, 1))\n",
    "    b2 = params[-output_size:].reshape((output_size, 1))\n",
    "    return theta1, theta2, b1, b2\n",
    "tt1, tt2, tb1, tb2 = tdecode(weights,k_size, k_size, p_size, p_size, num_units, output_size)\n",
    "tt1.shape, tt2.shape, tb1.shape, tb2.shape\n",
    "\n"
   ]
  },
  {
   "cell_type": "code",
   "execution_count": 44,
   "metadata": {},
   "outputs": [],
   "source": [
    "def tconvolution(Xi, kernal, xrow, xcol, krow, kcol, rrow, rcol): #(20, 20) (5, 5)\n",
    "    xrow, xcol = Xi.shape\n",
    "    krow, kcol = kernal.shape\n",
    "    rrow, rcol = xrow - krow + 1, xcol - kcol + 1\n",
    "    res = np.zeros((rrow, rcol))    \n",
    "    for i in range(rrow):\n",
    "        for j in range(rcol):\n",
    "            res[i][j] = np.sum(Xi[i:i+krow, j:j+kcol] * kernal)\n",
    "    return res # (16, 16)\n",
    "\n",
    "def tmaxPooling(conv):\n",
    "    # use 2*2 pooling\n",
    "    row, col = conv.shape\n",
    "    res = np.zeros((row // 2, col // 2))\n",
    "    pooling_grad = np.zeros(conv.shape)\n",
    "    for i in range(0, row, 2):\n",
    "        for j in range(0, col, 2):\n",
    "            m = conv[i, j]\n",
    "            mr, mc = i, j\n",
    "            for p in range(i, i + 2):\n",
    "                for q in range(j, j + 2):\n",
    "                    if conv[p, q] > m:\n",
    "                        m = conv[p, q]\n",
    "                        mr, mc = p, q\n",
    "            res[i // 2, j // 2] = m\n",
    "            pooling_grad[mr, mc] = 1\n",
    "    return res, pooling_grad\n",
    "\n",
    "def tforwardPropagate(Xi, theta1, theta2, b1, b2, num_units, inrow, incol, krow, \n",
    "                     kcol, conrow, concol, hrow, hcol):\n",
    "    a1 = Xi.reshape(inrow, incol) # (20, 20)\n",
    "    z2 = np.zeros((num_units, conrow, concol)) # (5, 16, 16) \n",
    "    a2 = np.zeros((num_units, conrow, concol)) # (5, 16, 16)\n",
    "    pooling_grad = np.zeros((num_units, conrow, concol)) # (5, 16, 16)\n",
    "    a3 = np.zeros((num_units, hrow, hcol)) # (5, 8, 8) z3 = a3\n",
    "    z4 = np.zeros((output_size, 1)) # (10, 1)\n",
    "    a4 = np.zeros((output_size, 1)) # (10, 1)\n",
    "    \n",
    "    for i in range(num_units):\n",
    "        z2[i] = tconvolution(a1, theta1[i], inrow, incol, krow, \n",
    "                            kcol, conrow, concol) + b1[i] # (16, 16)\n",
    "        a2[i] = sigmod(z2[i]) # (16, 16)\n",
    "        a3[i], pooling_grad[i] = tmaxPooling(a2[i]) # (8, 8) (16, 16)\n",
    "        for j in range(output_size):\n",
    "            z4[j] += np.sum(a3[i] * theta2[i,j])\n",
    "    for i in range(output_size):\n",
    "        z4[i] += b2[i]\n",
    "    a4 = sigmod(z4)\n",
    "    return a1, z2, a2, pooling_grad, a3, z4, a4\n",
    "\n",
    "b = tforwardPropagate(X[0], tt1, tt2, tb1, tb2, num_units, in_size, in_size, k_size, k_size, c_size, c_size, p_size, p_size)\n"
   ]
  },
  {
   "cell_type": "code",
   "execution_count": 93,
   "metadata": {},
   "outputs": [
    {
     "data": {
      "text/plain": [
       "array([[False],\n",
       "       [False],\n",
       "       [False],\n",
       "       [False],\n",
       "       [False],\n",
       "       [False],\n",
       "       [False],\n",
       "       [False],\n",
       "       [False],\n",
       "       [False]])"
      ]
     },
     "execution_count": 93,
     "metadata": {},
     "output_type": "execute_result"
    }
   ],
   "source": [
    "a[5] == b[5]"
   ]
  },
  {
   "cell_type": "code",
   "execution_count": 62,
   "metadata": {},
   "outputs": [
    {
     "data": {
      "text/plain": [
       "array([[-0.40618021],\n",
       "       [-0.15752495],\n",
       "       [ 0.57749211],\n",
       "       [-0.17013181],\n",
       "       [ 0.05604191],\n",
       "       [-0.47571607],\n",
       "       [ 1.31990801],\n",
       "       [ 0.24938998],\n",
       "       [ 1.16883429],\n",
       "       [-0.04913199]])"
      ]
     },
     "execution_count": 62,
     "metadata": {},
     "output_type": "execute_result"
    }
   ],
   "source": [
    "b[5]"
   ]
  },
  {
   "cell_type": "code",
   "execution_count": null,
   "metadata": {},
   "outputs": [],
   "source": []
  },
  {
   "cell_type": "code",
   "execution_count": null,
   "metadata": {},
   "outputs": [],
   "source": []
  },
  {
   "cell_type": "markdown",
   "metadata": {},
   "source": [
    "## 11 Predict"
   ]
  },
  {
   "cell_type": "code",
   "execution_count": null,
   "metadata": {},
   "outputs": [],
   "source": [
    "def predict(X, theta1, b1, theta2, b2, num_units, krow, kcol,\n",
    "                    crow, ccol, prow, pcol, output_size):\n",
    "    *t, h = forwardPropagate(X, theta1, b1, theta2, b2, num_units, krow, kcol,\n",
    "                    crow, ccol, prow, pcol, output_size)\n",
    "    return np.argmax(h) + 1"
   ]
  },
  {
   "cell_type": "markdown",
   "metadata": {},
   "source": [
    "## 12 Comupte accuracy"
   ]
  },
  {
   "cell_type": "code",
   "execution_count": null,
   "metadata": {},
   "outputs": [],
   "source": [
    "def computeAccuracy(X, y, theta1, b1, theta2, b2, num_units, krow, kcol,\n",
    "                    crow, ccol, prow, pcol, output_size):\n",
    "    m = X.shape[0]\n",
    "    correct = 0\n",
    "    for i in range(m):\n",
    "        ans = predict(X[i], theta1, b1, theta2, b2, num_units, krow, kcol,\n",
    "                    crow, ccol, prow, pcol, output_size)\n",
    "        correct += ans == y[i]\n",
    "    return f\"m:{m} correct:{correct} accuracy:{100 * correct / m}%\"\n",
    "#computeAccuracy(X, y, theta1, b1, theta2, b2, num_units, krow, kcol,\n",
    "#                    crow, ccol, prow, pcol, output_size)\n"
   ]
  },
  {
   "cell_type": "markdown",
   "metadata": {},
   "source": [
    "### The accuracy in all data"
   ]
  },
  {
   "cell_type": "code",
   "execution_count": null,
   "metadata": {},
   "outputs": [],
   "source": [
    "%%time\n",
    "computeAccuracy(X, y, theta1, b1, theta2, b2, num_units, krow, kcol,\n",
    "                    crow, ccol, prow, pcol, output_size)"
   ]
  },
  {
   "cell_type": "markdown",
   "metadata": {},
   "source": [
    "## 13 Sigmod gradient"
   ]
  },
  {
   "cell_type": "code",
   "execution_count": null,
   "metadata": {},
   "outputs": [],
   "source": [
    "def sigmodGradient(z):\n",
    "    t = expit(z)\n",
    "    return t * (1 - t)"
   ]
  },
  {
   "cell_type": "markdown",
   "metadata": {},
   "source": [
    "## 14 Backpropagation"
   ]
  },
  {
   "cell_type": "code",
   "execution_count": 150,
   "metadata": {},
   "outputs": [
    {
     "name": "stdout",
     "output_type": "stream",
     "text": [
      "2300.2960952125304\n"
     ]
    },
    {
     "data": {
      "text/plain": [
       "2300.2960952125304"
      ]
     },
     "execution_count": 150,
     "metadata": {},
     "output_type": "execute_result"
    }
   ],
   "source": [
    "def backPropagate(weights,  X, num_units, k_size,\n",
    "                    c_size, pf_size, p_size, output_size, lam=0.):\n",
    "    m = X.shape[0]\n",
    "    theta1, theta2, b1, b2 = decode(weights, num_units, \n",
    "                                    k_size, p_size, output_size)\n",
    "    J = 0.\n",
    "    \n",
    "    theta1_grad = np.zeros(theta1.shape) # (5, 5, 5)\n",
    "    b1_grad = np.zeros(b1.shape) # (5, 1)\n",
    "    theta2_grad = np.zeros(theta2.shape) # (5, 8, 10, 10)\n",
    "    b2_grad = np.zeros(b2.shape) # (10, 1)\n",
    "    \n",
    "    for i in range(m):\n",
    "        a1, z2, a2, pooling_grad, a3, z4, a4 = forwardPropagate(X[i], \n",
    "                    theta1, b1, theta2, b2, num_units, k_size,\n",
    "                    c_size, p_size, output_size)\n",
    "        J += -np.sum(y[i] * np.log(a4) + \n",
    "                    (1 - y[i]) * np.log(1 - a4)) # cost\n",
    "        print(J)\n",
    "        dt2 = a4 - y[i] # (10, 1)\n",
    "        b2_grad += dt2 # (10, 1)\n",
    "        temp_dt2 = dt2.reshape((1, output_size)) # (1, 10)\n",
    "        temp_grad = a3.reshape((num_units * p_size * p_size, 1)) * temp_dt2  # (5*8*8, 10)\n",
    "        theta2_grad += temp_grad.reshape((num_units, p_size, p_size, output_size))\n",
    "\n",
    "        \n",
    "        temp = theta2.reshape((num_units * p_size * p_size, output_size\n",
    "                               )) @ dt2\n",
    "        temp = temp.reshape((num_units, p_size, p_size))\n",
    "        temp2 = np.zeros((num_units, c_size, c_size)) # (5, 16, 16)\n",
    "        \n",
    "        for j in range(num_units): #\n",
    "            for p in range(0, c_size, pf_size):\n",
    "                for q in range(0, c_size, pf_size):\n",
    "                    temp2[j,p:p+pf_size,q:q+pf_size] = temp[j,p//pf_size,q//pf_size]\n",
    "                    \n",
    "        dt1 = temp2 * pooling_grad * z2 * (1 - z2) # (5, 16, 16)\n",
    "        \n",
    "        for j in range(num_units):\n",
    "            b1_grad[j] = np.sum(dt1[j])\n",
    "            for p in range(k_size):\n",
    "                for q in range(k_size):\n",
    "                    theta1_grad[j,p,q] += np.sum(dt1[j] * a1[p:p+c_size,q:q+c_size])\n",
    "    \n",
    "    J /= m\n",
    "    theta1_grad /= m\n",
    "    b1_grad /= m\n",
    "    theta2_grad /=m\n",
    "    b2_grad /= m\n",
    "    \n",
    "    #Regulation\n",
    "        \n",
    "    J += (float(lam) / (2 * m)) * (np.sum(theta1 ** 2) + np.sum(theta2 ** 2))\n",
    "    theta1_grad += theta1 * lam / m\n",
    "    theta2_grad += theta2 * lam / m\n",
    "    \n",
    "    return J, encode(theta1, b1, theta2, b2)\n",
    "J, grad = backPropagate(weights,tr_X[:1], num_units, k_size,\n",
    "                        c_size, pf_size, p_size, output_size)\n",
    "J"
   ]
  },
  {
   "cell_type": "code",
   "execution_count": 137,
   "metadata": {},
   "outputs": [
    {
     "ename": "NameError",
     "evalue": "name 'krow' is not defined",
     "output_type": "error",
     "traceback": [
      "\u001b[0;31m---------------------------------------------------------------------------\u001b[0m",
      "\u001b[0;31mNameError\u001b[0m                                 Traceback (most recent call last)",
      "\u001b[0;32m<timed exec>\u001b[0m in \u001b[0;36m<module>\u001b[0;34m\u001b[0m\n",
      "\u001b[0;31mNameError\u001b[0m: name 'krow' is not defined"
     ]
    }
   ],
   "source": []
  },
  {
   "cell_type": "markdown",
   "metadata": {},
   "source": [
    "## 15 Gradient checking"
   ]
  },
  {
   "cell_type": "code",
   "execution_count": null,
   "metadata": {},
   "outputs": [],
   "source": []
  },
  {
   "cell_type": "code",
   "execution_count": 151,
   "metadata": {},
   "outputs": [],
   "source": [
    "def checkGradient(weights, X, num_units, k_size,\n",
    "                    c_size, pf_size, p_size, output_size, lam=0.):\n",
    "    eps = 1e-4\n",
    "    n = len(weights)\n",
    "    J, grad = backPropagate(weights, X, num_units, k_size,\n",
    "                        c_size, pf_size, p_size, output_size)\n",
    "    print(J)\n",
    "    for i in range(10):\n",
    "        x = random.randint(0, n - 1)\n",
    "        epsvec = np.zeros(n)\n",
    "        epsvec[x] = eps\n",
    "        cost_high, t = backPropagate(weights + epsvec, X, num_units, k_size,\n",
    "                        c_size, pf_size, p_size, output_size)\n",
    "        cost_low, t = backPropagate(weights - epsvec, X, num_units, k_size,\n",
    "                        c_size, pf_size, p_size, output_size)\n",
    "        num_grad = (cost_high - cost_low) / (2 * eps)\n",
    "        print(f\"Element:{x} Num grad = {num_grad} BP grad = {grad[x]}\")"
   ]
  },
  {
   "cell_type": "code",
   "execution_count": 152,
   "metadata": {},
   "outputs": [
    {
     "name": "stdout",
     "output_type": "stream",
     "text": [
      "2300.2960952125304\n",
      "2300.2960952125304\n",
      "2300.306797223025\n",
      "2300.285393282415\n",
      "Element:2566 Num grad = 107.01970305035502 BP grad = 0.03433589467208856\n",
      "2300.303047301531\n",
      "2300.289143277596\n",
      "Element:2306 Num grad = 69.52011967541694 BP grad = -0.029535759210391033\n",
      "2300.303846912844\n",
      "2300.2883436960765\n",
      "Element:1744 Num grad = 77.51608383841813 BP grad = 0.0019928855592327988\n",
      "2300.3019672715977\n",
      "2300.2902233207487\n",
      "Element:2837 Num grad = 58.719754244975775 BP grad = 0.11424388560255339\n",
      "2300.302580655592\n",
      "2300.2896099507243\n",
      "Element:279 Num grad = 64.85352433855951 BP grad = -0.10762683928961711\n",
      "2300.301934103046\n",
      "2300.290256505109\n",
      "Element:3255 Num grad = 58.38798968397896 BP grad = -0.0625046525154217\n",
      "2300.3080309551956\n",
      "2300.284159610813\n",
      "Element:990 Num grad = 119.35672191384583 BP grad = -0.10171301664518845\n",
      "2300.308153311204\n",
      "2300.284037215896\n",
      "Element:2449 Num grad = 120.58047653908943 BP grad = -0.07828921373543868\n",
      "2300.3058961042275\n",
      "2300.28629441587\n",
      "Element:830 Num grad = 98.00844178698753 BP grad = -0.025046282649413304\n",
      "2300.3038750474284\n",
      "2300.2883155628297\n",
      "Element:1945 Num grad = 77.79742299362624 BP grad = -0.00442923100340864\n",
      "CPU times: user 282 ms, sys: 0 ns, total: 282 ms\n",
      "Wall time: 273 ms\n"
     ]
    }
   ],
   "source": [
    "%%time\n",
    "checkGradient(weights, X[:1], num_units, k_size,\n",
    "                    c_size, pf_size, p_size, output_size, 1.)"
   ]
  },
  {
   "cell_type": "code",
   "execution_count": 113,
   "metadata": {},
   "outputs": [
    {
     "data": {
      "text/plain": [
       "array([[1., 2., 3., 4.]])"
      ]
     },
     "execution_count": 113,
     "metadata": {},
     "output_type": "execute_result"
    }
   ],
   "source": [
    "a = np.array([1, 2, 3, 4])\n",
    "b = np.ones((1, 4))\n",
    "a * b"
   ]
  },
  {
   "cell_type": "code",
   "execution_count": 154,
   "metadata": {},
   "outputs": [
    {
     "name": "stdout",
     "output_type": "stream",
     "text": [
      "<html>\r\n",
      "<head>\r\n",
      " <title>500 Internal Privoxy Error</title>\r\n",
      " <link rel=\"shortcut icon\" href=\"http://config.privoxy.org/error-favicon.ico\" type=\"image/x-icon\"></head>\r\n",
      "<body>\r\n",
      "<h1>500 Internal Privoxy Error</h1>\r\n",
      "<p>Privoxy encountered an error while processing your request:</p>\r\n",
      "<p><b>Could not load template file <code>no-server-data</code> or one of its included components.</b></p>\r\n",
      "<p>Please contact your proxy administrator.</p>\r\n",
      "<p>If you are the proxy administrator, please put the required file(s)in the <code><i>(confdir)</i>/templates</code> directory.  The location of the <code><i>(confdir)</i></code> directory is specified in the main Privoxy <code>config</code> file.  (It's typically the Privoxy install directory).</p>\r\n",
      "</body>\r\n",
      "</html>\r\n"
     ]
    }
   ],
   "source": [
    "!curl www.google.com"
   ]
  },
  {
   "cell_type": "code",
   "execution_count": null,
   "metadata": {},
   "outputs": [],
   "source": []
  }
 ],
 "metadata": {
  "kernelspec": {
   "display_name": "Python 3",
   "language": "python",
   "name": "python3"
  },
  "language_info": {
   "codemirror_mode": {
    "name": "ipython",
    "version": 3
   },
   "file_extension": ".py",
   "mimetype": "text/x-python",
   "name": "python",
   "nbconvert_exporter": "python",
   "pygments_lexer": "ipython3",
   "version": "3.6.8"
  }
 },
 "nbformat": 4,
 "nbformat_minor": 2
}
