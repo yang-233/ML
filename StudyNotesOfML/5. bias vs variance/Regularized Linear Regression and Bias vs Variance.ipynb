{
 "cells": [
  {
   "cell_type": "markdown",
   "metadata": {},
   "source": [
    "# Regularied Linear Regression and Bias vs Variance"
   ]
  },
  {
   "cell_type": "markdown",
   "metadata": {},
   "source": [
    "## 1 Import data set"
   ]
  },
  {
   "cell_type": "code",
   "execution_count": null,
   "metadata": {},
   "outputs": [],
   "source": [
    "import numpy as np\n",
    "import pandas as pd\n",
    "import matplotlib.pyplot as plt\n",
    "from scipy.io import loadmat\n",
    "from scipy.optimize import minimize"
   ]
  },
  {
   "cell_type": "code",
   "execution_count": 2,
   "metadata": {},
   "outputs": [
    {
     "data": {
      "text/plain": [
       "{'__header__': b'MATLAB 5.0 MAT-file, Platform: GLNXA64, Created on: Fri Nov  4 22:27:26 2011',\n",
       " '__version__': '1.0',\n",
       " '__globals__': [],\n",
       " 'X': array([[-15.93675813],\n",
       "        [-29.15297922],\n",
       "        [ 36.18954863],\n",
       "        [ 37.49218733],\n",
       "        [-48.05882945],\n",
       "        [ -8.94145794],\n",
       "        [ 15.30779289],\n",
       "        [-34.70626581],\n",
       "        [  1.38915437],\n",
       "        [-44.38375985],\n",
       "        [  7.01350208],\n",
       "        [ 22.76274892]]),\n",
       " 'y': array([[ 2.13431051],\n",
       "        [ 1.17325668],\n",
       "        [34.35910918],\n",
       "        [36.83795516],\n",
       "        [ 2.80896507],\n",
       "        [ 2.12107248],\n",
       "        [14.71026831],\n",
       "        [ 2.61418439],\n",
       "        [ 3.74017167],\n",
       "        [ 3.73169131],\n",
       "        [ 7.62765885],\n",
       "        [22.7524283 ]]),\n",
       " 'Xtest': array([[-33.31800399],\n",
       "        [-37.91216403],\n",
       "        [-51.20693795],\n",
       "        [ -6.13259585],\n",
       "        [ 21.26118327],\n",
       "        [-40.31952949],\n",
       "        [-14.54153167],\n",
       "        [ 32.55976024],\n",
       "        [ 13.39343255],\n",
       "        [ 44.20988595],\n",
       "        [ -1.14267768],\n",
       "        [-12.76686065],\n",
       "        [ 34.05450539],\n",
       "        [ 39.22350028],\n",
       "        [  1.97449674],\n",
       "        [ 29.6217551 ],\n",
       "        [-23.66962971],\n",
       "        [ -9.01180139],\n",
       "        [-55.94057091],\n",
       "        [-35.70859752],\n",
       "        [  9.51020533]]),\n",
       " 'ytest': array([[ 3.31688953],\n",
       "        [ 5.39768952],\n",
       "        [ 0.13042984],\n",
       "        [ 6.1925982 ],\n",
       "        [17.08848712],\n",
       "        [ 0.79950805],\n",
       "        [ 2.82479183],\n",
       "        [28.62123334],\n",
       "        [17.04639081],\n",
       "        [55.38437334],\n",
       "        [ 4.07936733],\n",
       "        [ 8.27039793],\n",
       "        [31.32355102],\n",
       "        [39.15906103],\n",
       "        [ 8.08727989],\n",
       "        [24.11134389],\n",
       "        [ 2.4773548 ],\n",
       "        [ 6.56606472],\n",
       "        [ 6.0380888 ],\n",
       "        [ 4.69273956],\n",
       "        [10.83004606]]),\n",
       " 'Xval': array([[-16.74653578],\n",
       "        [-14.57747075],\n",
       "        [ 34.51575866],\n",
       "        [-47.01007574],\n",
       "        [ 36.97511905],\n",
       "        [-40.68611002],\n",
       "        [ -4.47201098],\n",
       "        [ 26.53363489],\n",
       "        [-42.7976831 ],\n",
       "        [ 25.37409938],\n",
       "        [-31.10955398],\n",
       "        [ 27.31176864],\n",
       "        [ -3.26386201],\n",
       "        [ -1.81827649],\n",
       "        [-40.7196624 ],\n",
       "        [-50.01324365],\n",
       "        [-17.41177155],\n",
       "        [  3.5881937 ],\n",
       "        [  7.08548026],\n",
       "        [ 46.28236902],\n",
       "        [ 14.61228909]]),\n",
       " 'yval': array([[ 4.17020201e+00],\n",
       "        [ 4.06726280e+00],\n",
       "        [ 3.18730676e+01],\n",
       "        [ 1.06236562e+01],\n",
       "        [ 3.18360213e+01],\n",
       "        [ 4.95936972e+00],\n",
       "        [ 4.45159880e+00],\n",
       "        [ 2.22763185e+01],\n",
       "        [-4.38738274e-05],\n",
       "        [ 2.05038016e+01],\n",
       "        [ 3.85834476e+00],\n",
       "        [ 1.93650529e+01],\n",
       "        [ 4.88376281e+00],\n",
       "        [ 1.10971588e+01],\n",
       "        [ 7.46170827e+00],\n",
       "        [ 1.47693464e+00],\n",
       "        [ 2.71916388e+00],\n",
       "        [ 1.09269007e+01],\n",
       "        [ 8.34871235e+00],\n",
       "        [ 5.27819280e+01],\n",
       "        [ 1.33573396e+01]])}"
      ]
     },
     "execution_count": 2,
     "metadata": {},
     "output_type": "execute_result"
    }
   ],
   "source": [
    "data = loadmat('ex5data1.mat')\n",
    "data"
   ]
  },
  {
   "cell_type": "code",
   "execution_count": 3,
   "metadata": {},
   "outputs": [],
   "source": [
    "def getData(data, *args):\n",
    "    return [data[i] for i in args]\n"
   ]
  },
  {
   "cell_type": "code",
   "execution_count": 4,
   "metadata": {},
   "outputs": [
    {
     "data": {
      "text/plain": [
       "((12, 1), (12, 1))"
      ]
     },
     "execution_count": 4,
     "metadata": {},
     "output_type": "execute_result"
    }
   ],
   "source": [
    "X, y = data['X'], data['y']\n",
    "X.shape, y.shape"
   ]
  },
  {
   "cell_type": "code",
   "execution_count": 5,
   "metadata": {},
   "outputs": [
    {
     "data": {
      "text/plain": [
       "((12, 1), (21, 1))"
      ]
     },
     "execution_count": 5,
     "metadata": {},
     "output_type": "execute_result"
    }
   ],
   "source": [
    "Xtest, ytest = data['X'], data['ytest']\n",
    "Xtest.shape, ytest.shape"
   ]
  },
  {
   "cell_type": "code",
   "execution_count": 6,
   "metadata": {},
   "outputs": [
    {
     "data": {
      "text/plain": [
       "((21, 1), (21, 1))"
      ]
     },
     "execution_count": 6,
     "metadata": {},
     "output_type": "execute_result"
    }
   ],
   "source": [
    "Xval, yval = data['Xval'], data['yval']\n",
    "Xval.shape, yval.shape"
   ]
  },
  {
   "cell_type": "code",
   "execution_count": 7,
   "metadata": {},
   "outputs": [
    {
     "data": {
      "image/png": "[encoded data removed]",
      "text/plain": [
       "<Figure size 576x360 with 1 Axes>"
      ]
     },
     "metadata": {
      "needs_background": "light"
     },
     "output_type": "display_data"
    }
   ],
   "source": [
    "def plotData(X, y):\n",
    "    plt.figure(figsize=(8, 5))\n",
    "    plt.ylabel('Water flowing out of the dam (y)')\n",
    "    plt.xlabel('Change in water level (X)')\n",
    "    plt.plot(X, y, 'rx')\n",
    "    plt.grid(True)\n",
    "plotData(X, y)"
   ]
  },
  {
   "cell_type": "code",
   "execution_count": 8,
   "metadata": {},
   "outputs": [],
   "source": [
    "X = np.insert(X, 0, 1, axis=1)\n",
    "Xtest = np.insert(Xtest, 0, 1, axis=1)\n",
    "Xval = np.insert(Xval, 0, 1, axis=1)\n"
   ]
  },
  {
   "cell_type": "markdown",
   "metadata": {},
   "source": [
    "## 2 Regularized linear regression cost function"
   ]
  },
  {
   "cell_type": "code",
   "execution_count": 16,
   "metadata": {},
   "outputs": [],
   "source": [
    "def h(theta, X):\n",
    "    return X @ theta\n",
    "def cost(theta, X, y, lam=0.):\n",
    "    theta = theta.reshape((X.shape[1], 1))\n",
    "    m = X.shape[0]\n",
    "    a1 = h(theta, X)\n",
    "    #print(a1.shape, y.shape)\n",
    "    J = np.sum((a1 - y) ** 2) / (2 * m)\n",
    "    #print(J)\n",
    "    reg = lam * np.sum(theta[1:] * theta[1:]) / (2 * m)\n",
    "    #print(reg)\n",
    "    return J + reg\n",
    "#theta = np.ones(2)\n",
    "#cost(theta.reshape(2,1), X, y, 0.)"
   ]
  },
  {
   "cell_type": "code",
   "execution_count": null,
   "metadata": {},
   "outputs": [],
   "source": []
  },
  {
   "cell_type": "markdown",
   "metadata": {},
   "source": [
    "## 3 Gradient"
   ]
  },
  {
   "cell_type": "code",
   "execution_count": 10,
   "metadata": {},
   "outputs": [],
   "source": [
    "def gradient(theta, X, y, lam=0.):\n",
    "    theta = theta.reshape((theta.shape[0], 1))\n",
    "    m = X.shape[0]\n",
    "    grad = (X.T @ (h(theta, X) - y)) / m\n",
    "    reg = float(lam) * theta / m\n",
    "    reg[0] = 0.\n",
    "    return (grad + reg).ravel()\n",
    "#gradient(theta, X, y, 1.)"
   ]
  },
  {
   "cell_type": "markdown",
   "metadata": {},
   "source": [
    "## 4 Training"
   ]
  },
  {
   "cell_type": "code",
   "execution_count": 11,
   "metadata": {},
   "outputs": [],
   "source": [
    "def train(theta, X, y, lam=0.):\n",
    "    fmin = minimize(cost, x0=theta, args=(X, y, lam),\n",
    "                   method='TNC', jac=gradient, options={'disp':True})\n",
    "    return fmin\n"
   ]
  },
  {
   "cell_type": "code",
   "execution_count": 12,
   "metadata": {},
   "outputs": [
    {
     "name": "stdout",
     "output_type": "stream",
     "text": [
      "(12, 1) (12, 1)\n",
      "(12, 1) (12, 1)\n",
      "(12, 1) (12, 1)\n",
      "(12, 1) (12, 1)\n",
      "(12, 1) (12, 1)\n",
      "(12, 1) (12, 1)\n",
      "(12, 1) (12, 1)\n",
      "(12, 1) (12, 1)\n",
      "     fun: 22.375033651965865\n",
      "     jac: array([-8.34382385e-09, -8.48427274e-08])\n",
      " message: 'Local minimum reached (|pg| ~= 0)'\n",
      "    nfev: 7\n",
      "     nit: 3\n",
      "  status: 0\n",
      " success: True\n",
      "       x: array([13.08786563,  0.36777178])\n",
      "(12, 1) (12, 1)\n"
     ]
    },
    {
     "data": {
      "text/plain": [
       "22.375033651965865"
      ]
     },
     "execution_count": 12,
     "metadata": {},
     "output_type": "execute_result"
    }
   ],
   "source": [
    "theta1 = np.ones(2)\n",
    "theta2 = np.random.rand(2)\n",
    "lam = 0.2\n",
    "fmin = train(theta2, X, y, lam)\n",
    "print(fmin)\n",
    "cost(fmin.x, X, y, lam)"
   ]
  },
  {
   "cell_type": "code",
   "execution_count": 14,
   "metadata": {},
   "outputs": [
    {
     "data": {
      "text/plain": [
       "[<matplotlib.lines.Line2D at 0x7f24aa1e6438>]"
      ]
     },
     "execution_count": 14,
     "metadata": {},
     "output_type": "execute_result"
    },
    {
     "data": {
      "image/png": "[encoded data removed]",
      "text/plain": [
       "<Figure size 576x360 with 1 Axes>"
      ]
     },
     "metadata": {
      "needs_background": "light"
     },
     "output_type": "display_data"
    }
   ],
   "source": [
    "plotData(X[:,1], y)\n",
    "plt.plot(X[:,1], h(fmin.x, X).ravel())"
   ]
  },
  {
   "cell_type": "markdown",
   "metadata": {},
   "source": [
    "## 5 Learning curve"
   ]
  },
  {
   "cell_type": "code",
   "execution_count": 17,
   "metadata": {},
   "outputs": [
    {
     "data": {
      "image/png": "[encoded data removed]",
      "text/plain": [
       "<Figure size 432x288 with 1 Axes>"
      ]
     },
     "metadata": {
      "needs_background": "light"
     },
     "output_type": "display_data"
    }
   ],
   "source": [
    "def plotLearningCureve(X, y, Xval, yval, lam=0.):\n",
    "    tr_cost, cv_cost = [], []\n",
    "    m = list(range(1, X.shape[0] + 1))\n",
    "    theta = np.random.rand(X.shape[1])\n",
    "    for i in m:\n",
    "        fmin = train(theta, X[:i], y[:i], lam)\n",
    "        tr_cost.append(cost(fmin.x, X[:i], y[:i], lam))\n",
    "        cv_cost.append(cost(fmin.x, Xval, yval, lam))\n",
    "    plt.plot(m, tr_cost, label='training cost')\n",
    "    plt.plot(m, cv_cost, label='cv cost')\n",
    "    plt.legend(loc=1)\n",
    "    plt.show()\n",
    "plotLearningCureve(X, y, Xval, yval, lam=0.02)"
   ]
  },
  {
   "cell_type": "markdown",
   "metadata": {},
   "source": [
    "模型欠拟合"
   ]
  },
  {
   "cell_type": "markdown",
   "metadata": {},
   "source": [
    "## 6 Build poly features"
   ]
  },
  {
   "cell_type": "code",
   "execution_count": 18,
   "metadata": {},
   "outputs": [],
   "source": [
    "def buildPolyFeatures(*args, n):\n",
    "    def slove(X, n):\n",
    "        m = X.shape[0]\n",
    "        for i in range(2, n + 1):\n",
    "            X = np.append(X, (X[:,0] ** i).reshape((m, 1)), axis=1)\n",
    "        return np.insert(X, 0, np.ones(m), axis=1)\n",
    "    return [slove(i, n) for i in args]\n",
    "X, Xtest, Xval = buildPolyFeatures(*getData(data, 'X', 'Xtest', 'Xval'), n = 8)"
   ]
  },
  {
   "cell_type": "code",
   "execution_count": 19,
   "metadata": {},
   "outputs": [
    {
     "data": {
      "text/plain": [
       "(12, 9)"
      ]
     },
     "execution_count": 19,
     "metadata": {},
     "output_type": "execute_result"
    }
   ],
   "source": [
    "X.shape"
   ]
  },
  {
   "cell_type": "code",
   "execution_count": null,
   "metadata": {},
   "outputs": [],
   "source": []
  },
  {
   "cell_type": "markdown",
   "metadata": {},
   "source": [
    "## 7 Standardlization"
   ]
  },
  {
   "cell_type": "code",
   "execution_count": 20,
   "metadata": {},
   "outputs": [],
   "source": [
    "def standardlize(*args):\n",
    "    def slove(X):\n",
    "        for i in range(1, X.shape[1]):\n",
    "            X[:,i] = (X[:,i] - X[:,i].mean()) / X[:,i].std()\n",
    "        return X\n",
    "    return [slove(i) for i in args]\n",
    "X, Xtest, Xval = standardlize(X, Xtest, Xval)"
   ]
  },
  {
   "cell_type": "markdown",
   "metadata": {},
   "source": [
    "## 8 Plot poly learning curve"
   ]
  },
  {
   "cell_type": "code",
   "execution_count": 21,
   "metadata": {},
   "outputs": [
    {
     "data": {
      "image/png": "[encoded data removed]",
      "text/plain": [
       "<Figure size 432x288 with 1 Axes>"
      ]
     },
     "metadata": {
      "needs_background": "light"
     },
     "output_type": "display_data"
    }
   ],
   "source": [
    "def plotPolyLearningCurve(X, y, Xval, yval, lam=0.):\n",
    "    tr_cost, cv_cost = [], []\n",
    "    m = [i for i in range(1, X.shape[0] + 1)]\n",
    "    theta = np.random.rand(X.shape[1])\n",
    "    for i in m:\n",
    "        fmin = train(theta, X[:i], y[:i], lam)\n",
    "        tr_cost.append(cost(fmin.x, X[:i], y[:i]))\n",
    "        cv_cost.append(cost(fmin.x, Xval, yval))\n",
    "    plt.plot(m, tr_cost, label='training cost')\n",
    "    plt.plot(m, cv_cost, label='cv cost')\n",
    "    plt.legend(loc=1)\n",
    "    plt.show()\n",
    "plotPolyLearningCurve(X, y, Xval, yval)"
   ]
  },
  {
   "cell_type": "markdown",
   "metadata": {},
   "source": [
    "tr_cost too low, over fitting"
   ]
  },
  {
   "cell_type": "code",
   "execution_count": 22,
   "metadata": {},
   "outputs": [
    {
     "data": {
      "image/png": "[encoded data removed]",
      "text/plain": [
       "<Figure size 432x288 with 1 Axes>"
      ]
     },
     "metadata": {
      "needs_background": "light"
     },
     "output_type": "display_data"
    }
   ],
   "source": [
    "plotPolyLearningCurve(X, y, Xval, yval, 1)"
   ]
  },
  {
   "cell_type": "markdown",
   "metadata": {},
   "source": [
    "ighten the fitting"
   ]
  },
  {
   "cell_type": "code",
   "execution_count": 23,
   "metadata": {},
   "outputs": [
    {
     "data": {
      "image/png": "[encoded data removed]",
      "text/plain": [
       "<Figure size 432x288 with 1 Axes>"
      ]
     },
     "metadata": {
      "needs_background": "light"
     },
     "output_type": "display_data"
    }
   ],
   "source": [
    "plotPolyLearningCurve(X, y, Xval, yval, 100)"
   ]
  },
  {
   "cell_type": "markdown",
   "metadata": {},
   "source": [
    "less fitting"
   ]
  },
  {
   "cell_type": "markdown",
   "metadata": {},
   "source": [
    "## 9 Find the best lam"
   ]
  },
  {
   "cell_type": "code",
   "execution_count": 24,
   "metadata": {},
   "outputs": [
    {
     "name": "stdout",
     "output_type": "stream",
     "text": [
      "1\n"
     ]
    },
    {
     "data": {
      "image/png": "[encoded data removed]",
      "text/plain": [
       "<Figure size 432x288 with 1 Axes>"
      ]
     },
     "metadata": {
      "needs_background": "light"
     },
     "output_type": "display_data"
    }
   ],
   "source": [
    "def showCost(X, y, Xval, yval, lam_vals):\n",
    "    tr_cost, cv_cost = [], []\n",
    "    theta = np.random.rand(X.shape[1])\n",
    "    for lam in lam_vals:\n",
    "        fmin = train(theta, X, y, lam)\n",
    "        tr_cost.append(cost(fmin.x, X, y))\n",
    "        cv_cost.append(cost(fmin.x, Xval, yval))\n",
    "    print(lam_vals[np.argmin(cv_cost)])\n",
    "    plt.plot(lam_vals, tr_cost, label='training')\n",
    "    plt.plot(lam_vals, cv_cost, label='cross validation')\n",
    "    plt.legend(loc=2)\n",
    "    plt.xlabel('lambda')\n",
    "    plt.ylabel('cost')\n",
    "    plt.show()\n",
    "\n",
    "lam_vals = [0, 0.001, 0.003, 0.01, 0.03, 0.1, 0.3, 1, 3, 10]\n",
    "showCost(X, y, Xval, yval, lam_vals)"
   ]
  },
  {
   "cell_type": "code",
   "execution_count": 30,
   "metadata": {},
   "outputs": [
    {
     "name": "stdout",
     "output_type": "stream",
     "text": [
      "test cost lam=0 cost=9.919069789169734\n",
      "test cost lam=0.001 cost=11.107633166069158\n",
      "test cost lam=0.003 cost=11.323753082506807\n",
      "test cost lam=0.01 cost=10.987527394607609\n",
      "test cost lam=0.03 cost=10.219042061768796\n",
      "test cost lam=0.1 cost=8.954134880073111\n",
      "test cost lam=0.3 cost=7.745217894983004\n",
      "test cost lam=1 cost=7.85155092851503\n",
      "test cost lam=3 cost=11.770321197017605\n",
      "test cost lam=10 cost=26.894046564834927\n"
     ]
    }
   ],
   "source": [
    "for lam in lam_vals:\n",
    "    theta = np.random.rand(X.shape[1])\n",
    "    fmin = train(theta, X, y, lam)\n",
    "    J = cost(fmin.x, Xtest, ytest)\n",
    "    print(f'test cost lam={lam} cost={J}')\n"
   ]
  },
  {
   "cell_type": "code",
   "execution_count": null,
   "metadata": {},
   "outputs": [],
   "source": [
    "in"
   ]
  }
 ],
 "metadata": {
  "kernelspec": {
   "display_name": "Python 3",
   "language": "python",
   "name": "python3"
  },
  "language_info": {
   "codemirror_mode": {
    "name": "ipython",
    "version": 3
   },
   "file_extension": ".py",
   "mimetype": "text/x-python",
   "name": "python",
   "nbconvert_exporter": "python",
   "pygments_lexer": "ipython3",
   "version": "3.6.8"
  }
 },
 "nbformat": 4,
 "nbformat_minor": 4
}
