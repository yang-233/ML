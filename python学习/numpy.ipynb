{
 "cells": [
  {
   "cell_type": "code",
   "execution_count": 1,
   "metadata": {
    "ExecuteTime": {
     "end_time": "2019-06-06T12:06:09.005441Z",
     "start_time": "2019-06-06T12:06:08.863816Z"
    }
   },
   "outputs": [
    {
     "data": {
      "text/plain": [
       "'1.17.2'"
      ]
     },
     "execution_count": 1,
     "metadata": {},
     "output_type": "execute_result"
    }
   ],
   "source": [
    "import numpy as np\n",
    "np.__version__"
   ]
  },
  {
   "cell_type": "markdown",
   "metadata": {
    "ExecuteTime": {
     "end_time": "2019-06-05T12:16:34.376668Z",
     "start_time": "2019-06-05T12:16:34.372373Z"
    }
   },
   "source": [
    "# 数组初始化"
   ]
  },
  {
   "cell_type": "code",
   "execution_count": null,
   "metadata": {
    "ExecuteTime": {
     "end_time": "2019-06-05T08:52:03.105794Z",
     "start_time": "2019-06-05T08:52:03.093843Z"
    }
   },
   "outputs": [],
   "source": [
    "np.zeros(10, dtype='int')"
   ]
  },
  {
   "cell_type": "code",
   "execution_count": null,
   "metadata": {
    "ExecuteTime": {
     "end_time": "2019-06-05T08:54:01.913718Z",
     "start_time": "2019-06-05T08:54:01.908448Z"
    }
   },
   "outputs": [],
   "source": [
    "np.ones(10, dtype=int)"
   ]
  },
  {
   "cell_type": "code",
   "execution_count": null,
   "metadata": {
    "ExecuteTime": {
     "end_time": "2019-06-05T08:56:11.366207Z",
     "start_time": "2019-06-05T08:56:11.345340Z"
    }
   },
   "outputs": [],
   "source": [
    "import math\n",
    "np.full((3, 5), math.pi)"
   ]
  },
  {
   "cell_type": "code",
   "execution_count": null,
   "metadata": {
    "ExecuteTime": {
     "end_time": "2019-06-05T08:56:54.381781Z",
     "start_time": "2019-06-05T08:56:54.369927Z"
    }
   },
   "outputs": [],
   "source": [
    "np.arange(0, 20, 2).reshape(5, 2)"
   ]
  },
  {
   "cell_type": "code",
   "execution_count": null,
   "metadata": {
    "ExecuteTime": {
     "end_time": "2019-06-05T08:57:32.583587Z",
     "start_time": "2019-06-05T08:57:32.558450Z"
    }
   },
   "outputs": [],
   "source": [
    "np.linspace(0, 2, 20)"
   ]
  },
  {
   "cell_type": "code",
   "execution_count": null,
   "metadata": {
    "ExecuteTime": {
     "end_time": "2019-06-05T08:58:45.415107Z",
     "start_time": "2019-06-05T08:58:45.401137Z"
    }
   },
   "outputs": [],
   "source": [
    "#均匀分布\n",
    "np.random.random((3, 3))"
   ]
  },
  {
   "cell_type": "code",
   "execution_count": null,
   "metadata": {
    "ExecuteTime": {
     "end_time": "2019-06-05T08:59:32.464698Z",
     "start_time": "2019-06-05T08:59:32.450292Z"
    }
   },
   "outputs": [],
   "source": [
    "np.random.normal(0, 1, (3, 3))\n",
    "#正态分布"
   ]
  },
  {
   "cell_type": "code",
   "execution_count": null,
   "metadata": {
    "ExecuteTime": {
     "end_time": "2019-06-05T08:59:53.495137Z",
     "start_time": "2019-06-05T08:59:53.486020Z"
    }
   },
   "outputs": [],
   "source": [
    "np.random.normal?"
   ]
  },
  {
   "cell_type": "code",
   "execution_count": null,
   "metadata": {
    "ExecuteTime": {
     "end_time": "2019-06-05T09:01:27.366113Z",
     "start_time": "2019-06-05T09:01:27.356892Z"
    }
   },
   "outputs": [],
   "source": [
    "np.eye(5)"
   ]
  },
  {
   "cell_type": "code",
   "execution_count": null,
   "metadata": {
    "ExecuteTime": {
     "end_time": "2019-06-05T09:01:56.368435Z",
     "start_time": "2019-06-05T09:01:56.355622Z"
    }
   },
   "outputs": [],
   "source": [
    "np.random.randint(0, 10, (3, 3))"
   ]
  },
  {
   "cell_type": "code",
   "execution_count": null,
   "metadata": {
    "ExecuteTime": {
     "end_time": "2019-06-05T09:02:30.632418Z",
     "start_time": "2019-06-05T09:02:30.613833Z"
    }
   },
   "outputs": [],
   "source": [
    "np.empty(100).reshape(10, 10)"
   ]
  },
  {
   "cell_type": "code",
   "execution_count": null,
   "metadata": {
    "ExecuteTime": {
     "end_time": "2019-06-05T09:03:34.226957Z",
     "start_time": "2019-06-05T09:03:34.214176Z"
    }
   },
   "outputs": [],
   "source": [
    "np.typeDict"
   ]
  },
  {
   "cell_type": "code",
   "execution_count": null,
   "metadata": {
    "ExecuteTime": {
     "end_time": "2019-06-05T09:10:16.616208Z",
     "start_time": "2019-06-05T09:10:16.610574Z"
    }
   },
   "outputs": [],
   "source": [
    "np.random.seed(0)\n",
    "x1 = np.random.randint(190, size=6)\n",
    "print(f'{x1.ndim} {x1.shape} {x1.size} {x1.dtype} {x1.nbytes}')"
   ]
  },
  {
   "cell_type": "code",
   "execution_count": null,
   "metadata": {
    "ExecuteTime": {
     "end_time": "2019-06-05T09:19:50.426841Z",
     "start_time": "2019-06-05T09:19:50.367270Z"
    }
   },
   "outputs": [],
   "source": [
    "a = np.random.randint(0, 100, (5, 5))\n",
    "print(a)\n"
   ]
  },
  {
   "cell_type": "code",
   "execution_count": null,
   "metadata": {
    "ExecuteTime": {
     "end_time": "2019-06-05T09:20:30.606411Z",
     "start_time": "2019-06-05T09:20:30.586829Z"
    }
   },
   "outputs": [],
   "source": [
    "a[:2, 1:2]\n",
    "#是原来的视图， 并不是另一份数组"
   ]
  },
  {
   "cell_type": "code",
   "execution_count": null,
   "metadata": {
    "ExecuteTime": {
     "end_time": "2019-06-05T09:21:09.932635Z",
     "start_time": "2019-06-05T09:21:09.893330Z"
    }
   },
   "outputs": [],
   "source": [
    "a[:2, 1:2].copy()"
   ]
  },
  {
   "cell_type": "markdown",
   "metadata": {},
   "source": [
    "# 数组合并\n"
   ]
  },
  {
   "cell_type": "code",
   "execution_count": null,
   "metadata": {
    "ExecuteTime": {
     "end_time": "2019-06-05T12:05:34.600357Z",
     "start_time": "2019-06-05T12:05:34.585695Z"
    }
   },
   "outputs": [],
   "source": [
    "\n",
    "x = np.array([1, 2, 3])\n",
    "y = np.array([2, 3, 4])\n",
    "z = np.array([3, 4, 5])\n",
    "np.concatenate([x, y, z])"
   ]
  },
  {
   "cell_type": "code",
   "execution_count": null,
   "metadata": {
    "ExecuteTime": {
     "end_time": "2019-06-05T12:07:10.517992Z",
     "start_time": "2019-06-05T12:07:10.500568Z"
    }
   },
   "outputs": [],
   "source": [
    "grid = np.array([[1, 2, 3],\n",
    "                [4, 5, 6]])\n",
    "#沿着第一个轴添加\n",
    "np.concatenate([grid, grid])"
   ]
  },
  {
   "cell_type": "code",
   "execution_count": null,
   "metadata": {
    "ExecuteTime": {
     "end_time": "2019-06-05T12:08:15.381848Z",
     "start_time": "2019-06-05T12:08:15.372538Z"
    }
   },
   "outputs": [],
   "source": [
    "#沿着第二轴添加，轴数不能超过维度\n",
    "np.concatenate([grid, grid], axis=1)"
   ]
  },
  {
   "cell_type": "code",
   "execution_count": null,
   "metadata": {
    "ExecuteTime": {
     "end_time": "2019-06-05T12:09:16.537905Z",
     "start_time": "2019-06-05T12:09:16.529025Z"
    }
   },
   "outputs": [],
   "source": [
    "np.vstack([grid, grid])\n",
    "#垂直轴添加\n",
    "#等价于 np.row_stack"
   ]
  },
  {
   "cell_type": "code",
   "execution_count": null,
   "metadata": {
    "ExecuteTime": {
     "end_time": "2019-06-05T12:09:38.429308Z",
     "start_time": "2019-06-05T12:09:38.423598Z"
    }
   },
   "outputs": [],
   "source": [
    "np.hstack([grid, grid])\n",
    "#水平轴添加\n",
    "#等价于np.column_stack"
   ]
  },
  {
   "cell_type": "code",
   "execution_count": null,
   "metadata": {
    "ExecuteTime": {
     "end_time": "2019-06-05T12:10:27.569186Z",
     "start_time": "2019-06-05T12:10:27.560441Z"
    }
   },
   "outputs": [],
   "source": [
    "#np.*stack?\n"
   ]
  },
  {
   "cell_type": "code",
   "execution_count": null,
   "metadata": {
    "ExecuteTime": {
     "end_time": "2019-06-05T12:11:01.067986Z",
     "start_time": "2019-06-05T12:11:01.050926Z"
    }
   },
   "outputs": [],
   "source": [
    "#np.dstack 按第三维度添加"
   ]
  },
  {
   "cell_type": "markdown",
   "metadata": {},
   "source": [
    "# 分裂"
   ]
  },
  {
   "cell_type": "code",
   "execution_count": null,
   "metadata": {
    "ExecuteTime": {
     "end_time": "2019-06-05T12:18:42.635391Z",
     "start_time": "2019-06-05T12:18:42.618959Z"
    }
   },
   "outputs": [],
   "source": [
    "x = [i for i in range(10)]\n",
    "#第一个参数是数组， 第二个参数是元组或者列表封装的分裂点\n",
    "np.split(x, (3, 5))"
   ]
  },
  {
   "cell_type": "code",
   "execution_count": null,
   "metadata": {
    "ExecuteTime": {
     "end_time": "2019-06-05T12:19:59.377410Z",
     "start_time": "2019-06-05T12:19:59.365639Z"
    }
   },
   "outputs": [],
   "source": [
    "grid = np.arange(16).reshape((4, 4))\n",
    "grid"
   ]
  },
  {
   "cell_type": "code",
   "execution_count": null,
   "metadata": {
    "ExecuteTime": {
     "end_time": "2019-06-05T12:21:10.585461Z",
     "start_time": "2019-06-05T12:21:10.569124Z"
    }
   },
   "outputs": [],
   "source": [
    "np.split(grid, [2, 3], axis=1)\n",
    "#类似连接"
   ]
  },
  {
   "cell_type": "code",
   "execution_count": null,
   "metadata": {
    "ExecuteTime": {
     "end_time": "2019-06-05T12:21:26.260204Z",
     "start_time": "2019-06-05T12:21:26.245964Z"
    }
   },
   "outputs": [],
   "source": [
    "np.vsplit(grid, [2, 3])"
   ]
  },
  {
   "cell_type": "code",
   "execution_count": null,
   "metadata": {
    "ExecuteTime": {
     "end_time": "2019-06-05T12:21:37.805539Z",
     "start_time": "2019-06-05T12:21:37.800670Z"
    }
   },
   "outputs": [],
   "source": [
    "np.hsplit(grid, [2, 3])"
   ]
  },
  {
   "cell_type": "markdown",
   "metadata": {},
   "source": [
    "# 通用函数\n",
    "## 一元通用函数\n"
   ]
  },
  {
   "cell_type": "code",
   "execution_count": null,
   "metadata": {
    "ExecuteTime": {
     "end_time": "2019-06-05T12:28:00.298142Z",
     "start_time": "2019-06-05T12:28:00.280343Z"
    }
   },
   "outputs": [],
   "source": [
    "a = np.arange(1, 5)\n",
    "a"
   ]
  },
  {
   "cell_type": "code",
   "execution_count": null,
   "metadata": {
    "ExecuteTime": {
     "end_time": "2019-06-05T12:28:02.947126Z",
     "start_time": "2019-06-05T12:28:02.935637Z"
    }
   },
   "outputs": [],
   "source": [
    "a + 5"
   ]
  },
  {
   "cell_type": "code",
   "execution_count": null,
   "metadata": {
    "ExecuteTime": {
     "end_time": "2019-06-05T12:28:04.343677Z",
     "start_time": "2019-06-05T12:28:04.322765Z"
    }
   },
   "outputs": [],
   "source": [
    "1 / a"
   ]
  },
  {
   "cell_type": "code",
   "execution_count": null,
   "metadata": {
    "ExecuteTime": {
     "end_time": "2019-06-05T12:28:17.862813Z",
     "start_time": "2019-06-05T12:28:17.852323Z"
    }
   },
   "outputs": [],
   "source": [
    "a / 2 "
   ]
  },
  {
   "cell_type": "code",
   "execution_count": null,
   "metadata": {
    "ExecuteTime": {
     "end_time": "2019-06-05T12:28:30.253934Z",
     "start_time": "2019-06-05T12:28:30.239872Z"
    }
   },
   "outputs": [],
   "source": [
    "a * 2"
   ]
  },
  {
   "cell_type": "code",
   "execution_count": null,
   "metadata": {
    "ExecuteTime": {
     "end_time": "2019-06-05T12:28:37.520159Z",
     "start_time": "2019-06-05T12:28:37.509728Z"
    }
   },
   "outputs": [],
   "source": [
    "a ** 2"
   ]
  },
  {
   "cell_type": "code",
   "execution_count": null,
   "metadata": {
    "ExecuteTime": {
     "end_time": "2019-06-05T12:28:48.416645Z",
     "start_time": "2019-06-05T12:28:48.404352Z"
    }
   },
   "outputs": [],
   "source": [
    "a % 2"
   ]
  },
  {
   "cell_type": "code",
   "execution_count": null,
   "metadata": {
    "ExecuteTime": {
     "end_time": "2019-06-05T12:30:00.216756Z",
     "start_time": "2019-06-05T12:30:00.212223Z"
    }
   },
   "outputs": [],
   "source": [
    "b = np.array([-1, 2, -3, 4])\n",
    "np.abs(b)"
   ]
  },
  {
   "cell_type": "code",
   "execution_count": null,
   "metadata": {
    "ExecuteTime": {
     "end_time": "2019-06-06T12:06:14.464543Z",
     "start_time": "2019-06-06T12:06:14.452089Z"
    }
   },
   "outputs": [],
   "source": [
    "a = np.array([[1, 2],\n",
    "             [3, 4]])\n",
    "b = np.array([[1], \n",
    "        [2]])\n",
    "a * b\n",
    "#数组的默认乘法是对位相乘"
   ]
  },
  {
   "cell_type": "code",
   "execution_count": null,
   "metadata": {
    "ExecuteTime": {
     "end_time": "2019-06-05T12:35:15.785331Z",
     "start_time": "2019-06-05T12:35:15.769546Z"
    }
   },
   "outputs": [],
   "source": [
    "theta = np.linspace(0, np.pi, 3)\n",
    "theta"
   ]
  },
  {
   "cell_type": "code",
   "execution_count": null,
   "metadata": {
    "ExecuteTime": {
     "end_time": "2019-06-05T12:35:28.238794Z",
     "start_time": "2019-06-05T12:35:28.229212Z"
    }
   },
   "outputs": [],
   "source": [
    "np.sin(theta)"
   ]
  },
  {
   "cell_type": "code",
   "execution_count": null,
   "metadata": {
    "ExecuteTime": {
     "end_time": "2019-06-05T12:35:38.953138Z",
     "start_time": "2019-06-05T12:35:38.944599Z"
    }
   },
   "outputs": [],
   "source": [
    "np.cos(theta)"
   ]
  },
  {
   "cell_type": "code",
   "execution_count": null,
   "metadata": {
    "ExecuteTime": {
     "end_time": "2019-06-05T12:35:53.635599Z",
     "start_time": "2019-06-05T12:35:53.624598Z"
    }
   },
   "outputs": [],
   "source": [
    "np.tan(theta)"
   ]
  },
  {
   "cell_type": "code",
   "execution_count": null,
   "metadata": {
    "ExecuteTime": {
     "end_time": "2019-06-05T12:37:37.254865Z",
     "start_time": "2019-06-05T12:37:37.227602Z"
    }
   },
   "outputs": [],
   "source": [
    "# 同样支持 反三角函数\n",
    "c = np.array([-1, 0, 1])\n",
    "np.arcsin(c)"
   ]
  },
  {
   "cell_type": "code",
   "execution_count": null,
   "metadata": {
    "ExecuteTime": {
     "end_time": "2019-06-05T12:37:45.731257Z",
     "start_time": "2019-06-05T12:37:45.721873Z"
    }
   },
   "outputs": [],
   "source": [
    "np.arccos(c)"
   ]
  },
  {
   "cell_type": "code",
   "execution_count": null,
   "metadata": {
    "ExecuteTime": {
     "end_time": "2019-06-05T12:37:53.743821Z",
     "start_time": "2019-06-05T12:37:53.733613Z"
    }
   },
   "outputs": [],
   "source": [
    "np.arctan(c)"
   ]
  },
  {
   "cell_type": "markdown",
   "metadata": {},
   "source": [
    "## scipy中拓展的高级函数"
   ]
  },
  {
   "cell_type": "code",
   "execution_count": null,
   "metadata": {
    "ExecuteTime": {
     "end_time": "2019-06-05T13:01:39.808768Z",
     "start_time": "2019-06-05T13:01:39.803679Z"
    }
   },
   "outputs": [],
   "source": [
    "from scipy import special as sp\n",
    "x = np.array([1, 5, 10])\n",
    "sp.gamma(x)"
   ]
  },
  {
   "cell_type": "code",
   "execution_count": null,
   "metadata": {
    "ExecuteTime": {
     "end_time": "2019-06-05T13:03:19.706997Z",
     "start_time": "2019-06-05T13:03:19.695291Z"
    }
   },
   "outputs": [],
   "source": [
    "sp.gammaln(x)"
   ]
  },
  {
   "cell_type": "code",
   "execution_count": null,
   "metadata": {
    "ExecuteTime": {
     "end_time": "2019-06-05T13:03:47.280343Z",
     "start_time": "2019-06-05T13:03:47.262865Z"
    }
   },
   "outputs": [],
   "source": [
    "sp.beta(x, 2)"
   ]
  },
  {
   "cell_type": "code",
   "execution_count": null,
   "metadata": {
    "ExecuteTime": {
     "end_time": "2019-06-05T13:05:03.071863Z",
     "start_time": "2019-06-05T13:05:03.059219Z"
    }
   },
   "outputs": [],
   "source": [
    "#误差函数（高斯积分）\n",
    "#它的实现和逆实现\n",
    "x = np.array([0, 0.3, 0.7, 1.0])\n",
    "sp.erf(x)"
   ]
  },
  {
   "cell_type": "code",
   "execution_count": null,
   "metadata": {
    "ExecuteTime": {
     "end_time": "2019-06-05T13:05:24.343567Z",
     "start_time": "2019-06-05T13:05:24.335288Z"
    }
   },
   "outputs": [],
   "source": [
    "sp.erfc(x)"
   ]
  },
  {
   "cell_type": "code",
   "execution_count": null,
   "metadata": {
    "ExecuteTime": {
     "end_time": "2019-06-05T13:06:19.213586Z",
     "start_time": "2019-06-05T13:06:19.181268Z"
    }
   },
   "outputs": [],
   "source": [
    "sp.erfinv(x)"
   ]
  },
  {
   "cell_type": "markdown",
   "metadata": {},
   "source": [
    "##  高级通用函数特性"
   ]
  },
  {
   "cell_type": "code",
   "execution_count": null,
   "metadata": {
    "ExecuteTime": {
     "end_time": "2019-06-05T13:10:01.648334Z",
     "start_time": "2019-06-05T13:10:01.637638Z"
    }
   },
   "outputs": [],
   "source": [
    "#用out制定输出位置， 可以避免创建一个临时数组\n",
    "x = np.arange(5)\n",
    "y = x * 10\n",
    "y"
   ]
  },
  {
   "cell_type": "code",
   "execution_count": null,
   "metadata": {
    "ExecuteTime": {
     "end_time": "2019-06-05T14:55:40.056310Z",
     "start_time": "2019-06-05T14:55:40.051851Z"
    }
   },
   "outputs": [],
   "source": [
    "z = np.zeros(10)\n",
    "np.power(2, x, out=z[::2])\n",
    "z\n",
    "#如果写成下面的形式，会创建临时变量\n",
    "z[::2] = x ** 2\n",
    "z"
   ]
  },
  {
   "cell_type": "code",
   "execution_count": null,
   "metadata": {
    "ExecuteTime": {
     "end_time": "2019-06-05T14:58:20.371028Z",
     "start_time": "2019-06-05T14:58:20.351464Z"
    }
   },
   "outputs": [],
   "source": [
    "x = np.arange(1, 6)\n",
    "np.add.reduce(x)\n"
   ]
  },
  {
   "cell_type": "code",
   "execution_count": null,
   "metadata": {
    "ExecuteTime": {
     "end_time": "2019-06-05T14:58:41.039884Z",
     "start_time": "2019-06-05T14:58:41.035717Z"
    }
   },
   "outputs": [],
   "source": [
    "np.add.accumulate(x)"
   ]
  },
  {
   "cell_type": "markdown",
   "metadata": {},
   "source": [
    "np.add np.multiply这种函数，是可调用类，而不是普通的方法"
   ]
  },
  {
   "cell_type": "code",
   "execution_count": null,
   "metadata": {
    "ExecuteTime": {
     "end_time": "2019-06-05T15:01:42.311806Z",
     "start_time": "2019-06-05T15:01:42.307062Z"
    }
   },
   "outputs": [],
   "source": [
    "#外积\n",
    "#任何通用函数都可以使用outer方法获得不同输入数组所有元素对的运算结果\n",
    "x = np.arange(1, 10)\n",
    "np.multiply.outer(x, x)"
   ]
  },
  {
   "cell_type": "code",
   "execution_count": null,
   "metadata": {
    "ExecuteTime": {
     "end_time": "2019-06-05T15:02:05.428981Z",
     "start_time": "2019-06-05T15:02:05.420562Z"
    }
   },
   "outputs": [],
   "source": [
    "np.add.outer(x, x)"
   ]
  },
  {
   "cell_type": "code",
   "execution_count": null,
   "metadata": {
    "ExecuteTime": {
     "end_time": "2019-06-05T15:41:28.628642Z",
     "start_time": "2019-06-05T15:41:28.620571Z"
    }
   },
   "outputs": [],
   "source": [
    "import matplotlib as mpl\n",
    "from matplotlib import pyplot as plt"
   ]
  },
  {
   "cell_type": "code",
   "execution_count": null,
   "metadata": {},
   "outputs": [],
   "source": [
    "a = \"asdasda\"\n",
    "b = \"asdasd\"\n",
    "a + b"
   ]
  },
  {
   "cell_type": "code",
   "execution_count": null,
   "metadata": {},
   "outputs": [],
   "source": [
    "a = 1 \n",
    "\n",
    "a *= a\n",
    "\n",
    "a"
   ]
  },
  {
   "cell_type": "code",
   "execution_count": null,
   "metadata": {},
   "outputs": [],
   "source": [
    "a += 1"
   ]
  },
  {
   "cell_type": "code",
   "execution_count": null,
   "metadata": {},
   "outputs": [],
   "source": [
    "a "
   ]
  },
  {
   "cell_type": "code",
   "execution_count": null,
   "metadata": {},
   "outputs": [],
   "source": []
  }
 ],
 "metadata": {
  "kernelspec": {
   "display_name": "Python 3",
   "language": "python",
   "name": "python3"
  },
  "language_info": {
   "codemirror_mode": {
    "name": "ipython",
    "version": 3
   },
   "file_extension": ".py",
   "mimetype": "text/x-python",
   "name": "python",
   "nbconvert_exporter": "python",
   "pygments_lexer": "ipython3",
   "version": "3.6.8"
  },
  "toc": {
   "base_numbering": 1,
   "nav_menu": {},
   "number_sections": true,
   "sideBar": true,
   "skip_h1_title": false,
   "title_cell": "Table of Contents",
   "title_sidebar": "Contents",
   "toc_cell": false,
   "toc_position": {},
   "toc_section_display": true,
   "toc_window_display": false
  }
 },
 "nbformat": 4,
 "nbformat_minor": 2
}
