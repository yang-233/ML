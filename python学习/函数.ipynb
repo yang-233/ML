{
 "cells": [
  {
   "cell_type": "markdown",
   "metadata": {},
   "source": [
    "# 函数参数\n",
    "## 参数定义顺序：\n",
    "### 1. 必选参数\n",
    "### 2. 含默认值的参数\n",
    "### 3. 可变参数\n",
    "### 4. 命名关键字参数\n",
    "### 5. 关键字参数"
   ]
  },
  {
   "cell_type": "code",
   "execution_count": 10,
   "metadata": {},
   "outputs": [
    {
     "name": "stdout",
     "output_type": "stream",
     "text": [
      "1\n",
      "2\n",
      "{}\n"
     ]
    }
   ],
   "source": [
    "def fun(a, *, b, **d):\n",
    "# * 后面的全部是关键字参数，必须指定参数名\n",
    "# 可变参数后面的参数均为关键字参数\n",
    "    print(a)\n",
    "    print(b)\n",
    "    print(d)\n",
    "fun(1, b=2)"
   ]
  },
  {
   "cell_type": "code",
   "execution_count": 13,
   "metadata": {},
   "outputs": [
    {
     "name": "stdout",
     "output_type": "stream",
     "text": [
      "()\n",
      "{}\n",
      "1\n",
      "2\n"
     ]
    }
   ],
   "source": [
    "def fun1(*args, a, b, **kw):\n",
    "    print(args)\n",
    "    print(kw)\n",
    "    print(a)\n",
    "    print(b)\n",
    "fun1(a=1, b=2)"
   ]
  },
  {
   "cell_type": "code",
   "execution_count": null,
   "metadata": {
    "ExecuteTime": {
     "end_time": "2019-05-29T08:49:21.084547Z",
     "start_time": "2019-05-29T08:49:21.007139Z"
    }
   },
   "outputs": [],
   "source": [
    "def _odd():#生成 3 5 7 9 ...奇数\n",
    "    n = 3\n",
    "    while True:\n",
    "        yield n\n",
    "        n += 2\n",
    "def _not(n):\n",
    "#     print('x', n) \n",
    "    return lambda x: (x % n != 0, print('x', x, 'n', n))[0]\n",
    "def prims():#生成素数序列，使用埃氏筛法\n",
    "    yield 2\n",
    "    it = _odd()#奇数序列\n",
    "    while True:\n",
    "        n = next(it)#读取第一个没有被整除掉的数\n",
    "        yield n\n",
    "#         it = filter(lambda x: (x % n != 0, print('x', x, 'n', n))[0], it)\n",
    "        it = filter(_not(n), it)#将能被n整除的数过滤掉\n",
    "\n",
    "\n",
    "if __name__ == \"__main__\":\n",
    "    for i in prims():\n",
    "        if i < 100:\n",
    "            print(i)\n",
    "        else:\n",
    "            break\n"
   ]
  },
  {
   "cell_type": "markdown",
   "metadata": {},
   "source": [
    "# 16行解析\n",
    "此处filter的会根据现有的生成器进行加工，生成新的生成器，会记录下所有的_not(n)函数。对每一个新产生的数，从2 3 5 7... 依次调用_not()函数\n",
    "# 15行解析\n",
    "此处的lambda函数，使用的n是一个引用，并没有被copy下来单独记录。因此不能正常工作。"
   ]
  },
  {
   "cell_type": "code",
   "execution_count": 9,
   "metadata": {
    "ExecuteTime": {
     "end_time": "2019-05-29T14:33:50.879447Z",
     "start_time": "2019-05-29T14:33:50.850022Z"
    }
   },
   "outputs": [
    {
     "data": {
      "text/plain": [
       "[('Adam', 92), ('Bart', 66), ('Bob', 75), ('Lisa', 88)]"
      ]
     },
     "execution_count": 9,
     "metadata": {},
     "output_type": "execute_result"
    }
   ],
   "source": [
    "L = [('Bob', 75), ('Adam', 92), ('Bart', 66), ('Lisa', 88)]\n",
    "a = sorted(L, key=lambda x: x[0])\n",
    "a"
   ]
  },
  {
   "cell_type": "code",
   "execution_count": 11,
   "metadata": {
    "ExecuteTime": {
     "end_time": "2019-05-29T15:44:24.811808Z",
     "start_time": "2019-05-29T15:44:24.786855Z"
    }
   },
   "outputs": [
    {
     "name": "stdout",
     "output_type": "stream",
     "text": [
      "i 1 fs [<function count.<locals>.f at 0x7f66af16b840>]\n",
      "i 2 fs [<function count.<locals>.f at 0x7f66af16b840>, <function count.<locals>.f at 0x7f66c40e6d90>]\n",
      "i 3 fs [<function count.<locals>.f at 0x7f66af16b840>, <function count.<locals>.f at 0x7f66c40e6d90>, <function count.<locals>.f at 0x7f66c40e6598>]\n"
     ]
    },
    {
     "data": {
      "text/plain": [
       "9"
      ]
     },
     "execution_count": 11,
     "metadata": {},
     "output_type": "execute_result"
    }
   ],
   "source": [
    "def count():\n",
    "    fs = []\n",
    "    for i in range(1, 4):\n",
    "        def f():#每次调用都返回一个值\n",
    "             return i*i\n",
    "        fs.append(f)\n",
    "        print('i', i, 'fs', fs)\n",
    "    return fs#返回一个装着函数的列表\n",
    "\n",
    "f1, f2, f3 = count()#但是此时的i已经变为3了\n",
    "f1()"
   ]
  },
  {
   "cell_type": "code",
   "execution_count": 16,
   "metadata": {
    "ExecuteTime": {
     "end_time": "2019-05-29T16:20:53.392173Z",
     "start_time": "2019-05-29T16:20:53.337990Z"
    },
    "scrolled": true
   },
   "outputs": [
    {
     "ename": "TypeError",
     "evalue": "not enough arguments for format string",
     "output_type": "error",
     "traceback": [
      "\u001b[0;31m---------------------------------------------------------------------------\u001b[0m",
      "\u001b[0;31mTypeError\u001b[0m                                 Traceback (most recent call last)",
      "\u001b[0;32m<ipython-input-16-6dadcf3b5fcd>\u001b[0m in \u001b[0;36m<module>\u001b[0;34m\u001b[0m\n\u001b[1;32m     12\u001b[0m \u001b[0;32mdef\u001b[0m \u001b[0mnow\u001b[0m\u001b[0;34m(\u001b[0m\u001b[0;34m)\u001b[0m\u001b[0;34m:\u001b[0m\u001b[0;34m\u001b[0m\u001b[0;34m\u001b[0m\u001b[0m\n\u001b[1;32m     13\u001b[0m     \u001b[0mprint\u001b[0m\u001b[0;34m(\u001b[0m\u001b[0;34m'Hello world!'\u001b[0m\u001b[0;34m)\u001b[0m\u001b[0;34m\u001b[0m\u001b[0;34m\u001b[0m\u001b[0m\n\u001b[0;32m---> 14\u001b[0;31m \u001b[0mnow\u001b[0m\u001b[0;34m(\u001b[0m\u001b[0;34m)\u001b[0m\u001b[0;34m\u001b[0m\u001b[0;34m\u001b[0m\u001b[0m\n\u001b[0m",
      "\u001b[0;32m<ipython-input-16-6dadcf3b5fcd>\u001b[0m in \u001b[0;36mwrapper\u001b[0;34m(*args, **argskw)\u001b[0m\n\u001b[1;32m      5\u001b[0m         \u001b[0;34m@\u001b[0m\u001b[0mfunctools\u001b[0m\u001b[0;34m.\u001b[0m\u001b[0mwraps\u001b[0m\u001b[0;34m(\u001b[0m\u001b[0mfun\u001b[0m\u001b[0;34m)\u001b[0m\u001b[0;34m\u001b[0m\u001b[0;34m\u001b[0m\u001b[0m\n\u001b[1;32m      6\u001b[0m         \u001b[0;32mdef\u001b[0m \u001b[0mwrapper\u001b[0m\u001b[0;34m(\u001b[0m\u001b[0;34m*\u001b[0m\u001b[0margs\u001b[0m\u001b[0;34m,\u001b[0m \u001b[0;34m**\u001b[0m\u001b[0margskw\u001b[0m\u001b[0;34m)\u001b[0m\u001b[0;34m:\u001b[0m\u001b[0;34m\u001b[0m\u001b[0;34m\u001b[0m\u001b[0m\n\u001b[0;32m----> 7\u001b[0;31m             \u001b[0mprint\u001b[0m\u001b[0;34m(\u001b[0m\u001b[0;34m'%s %s() in %s'\u001b[0m \u001b[0;34m%\u001b[0m \u001b[0;34m(\u001b[0m\u001b[0mtext\u001b[0m\u001b[0;34m,\u001b[0m \u001b[0mfun\u001b[0m\u001b[0;34m.\u001b[0m\u001b[0m__name__\u001b[0m\u001b[0;34m)\u001b[0m\u001b[0;34m)\u001b[0m\u001b[0;34m\u001b[0m\u001b[0;34m\u001b[0m\u001b[0m\n\u001b[0m\u001b[1;32m      8\u001b[0m             \u001b[0;32mreturn\u001b[0m \u001b[0mfun\u001b[0m\u001b[0;34m(\u001b[0m\u001b[0;34m*\u001b[0m\u001b[0margs\u001b[0m\u001b[0;34m,\u001b[0m \u001b[0;34m**\u001b[0m\u001b[0margskw\u001b[0m\u001b[0;34m)\u001b[0m\u001b[0;34m\u001b[0m\u001b[0;34m\u001b[0m\u001b[0m\n\u001b[1;32m      9\u001b[0m         \u001b[0;32mreturn\u001b[0m \u001b[0mwrapper\u001b[0m\u001b[0;34m\u001b[0m\u001b[0;34m\u001b[0m\u001b[0m\n",
      "\u001b[0;31mTypeError\u001b[0m: not enough arguments for format string"
     ]
    }
   ],
   "source": [
    "import functools\n",
    "import time\n",
    "\n",
    "\n",
    "def log(text, level='error'):\n",
    "    def decorator(fun):\n",
    "        @functools.wraps(fun)\n",
    "        def wrapper(*args, **argskw):\n",
    "            print('level=%s:%s %s() in %s' % (level, text, fun.__name__, time.asctime()))\n",
    "            return fun(*args, **argskw)\n",
    "\n",
    "        return wrapper\n",
    "\n",
    "    return decorator"
   ]
  },
  {
   "cell_type": "code",
   "execution_count": 17,
   "metadata": {
    "ExecuteTime": {
     "end_time": "2019-05-29T16:37:42.749752Z",
     "start_time": "2019-05-29T16:37:42.739065Z"
    }
   },
   "outputs": [
    {
     "name": "stdout",
     "output_type": "stream",
     "text": [
      "C\n"
     ]
    }
   ],
   "source": [
    "class A:\n",
    "    pass\n",
    "class B:\n",
    "    pass\n",
    "class C(A, B):\n",
    "    \n",
    "    def __init__(self):\n",
    "        print('C')\n",
    "c = C()"
   ]
  },
  {
   "cell_type": "code",
   "execution_count": 19,
   "metadata": {
    "ExecuteTime": {
     "end_time": "2019-05-30T01:44:02.942456Z",
     "start_time": "2019-05-30T01:44:02.909334Z"
    }
   },
   "outputs": [
    {
     "data": {
      "text/plain": [
       "5"
      ]
     },
     "execution_count": 19,
     "metadata": {},
     "output_type": "execute_result"
    }
   ],
   "source": [
    "class Screen(object):\n",
    "    @property\n",
    "    def width(self):\n",
    "        return self._width\n",
    "    \n",
    "    @width.setter\n",
    "    def width(self, value):\n",
    "        self._width = value\n",
    "        \n",
    "a = Screen()\n",
    "a.width = 5\n",
    "a.width"
   ]
  },
  {
   "cell_type": "code",
   "execution_count": null,
   "metadata": {},
   "outputs": [],
   "source": []
  }
 ],
 "metadata": {
  "kernelspec": {
   "display_name": "Python 3",
   "language": "python",
   "name": "python3"
  },
  "language_info": {
   "codemirror_mode": {
    "name": "ipython",
    "version": 3
   },
   "file_extension": ".py",
   "mimetype": "text/x-python",
   "name": "python",
   "nbconvert_exporter": "python",
   "pygments_lexer": "ipython3",
   "version": "3.7.3"
  }
 },
 "nbformat": 4,
 "nbformat_minor": 2
}
